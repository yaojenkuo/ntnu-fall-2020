{
 "cells": [
  {
   "cell_type": "markdown",
   "metadata": {
    "slideshow": {
     "slide_type": "slide"
    }
   },
   "source": [
    "# Python Data Science\n",
    "\n",
    "> Project: Taiwan Election 2020\n",
    "\n",
    "Kuo, Yao-Jen <yaojenkuo@datainpoint.com> from [DATAINPOINT](https://www.datainpoint.com/)"
   ]
  },
  {
   "cell_type": "markdown",
   "metadata": {
    "slideshow": {
     "slide_type": "subslide"
    }
   },
   "source": [
    "## TL; DR\n",
    "\n",
    "> In this lecture, we will talk about how to wrangle the election data of Taiwan in 2020 with `pandas`."
   ]
  },
  {
   "cell_type": "code",
   "execution_count": 1,
   "metadata": {
    "slideshow": {
     "slide_type": "subslide"
    }
   },
   "outputs": [],
   "source": [
    "# Importing libraries/functions the project needs\n",
    "from urllib.parse import quote_plus\n",
    "from string import ascii_uppercase\n",
    "import os\n",
    "import re\n",
    "import pandas as pd\n",
    "import sqlite3"
   ]
  },
  {
   "cell_type": "markdown",
   "metadata": {
    "slideshow": {
     "slide_type": "slide"
    }
   },
   "source": [
    "## Importing Data"
   ]
  },
  {
   "cell_type": "markdown",
   "metadata": {
    "slideshow": {
     "slide_type": "subslide"
    }
   },
   "source": [
    "## Data comes from www.cec.gov.tw\n",
    "\n",
    "- [第15任總統(副總統)選舉](https://db.cec.gov.tw/histMain.jsp?voteSel=20200101A1)\n",
    "- [第10屆立法委員選舉](https://db.cec.gov.tw/histMain.jsp?voteSel=20200101A2)"
   ]
  },
  {
   "cell_type": "markdown",
   "metadata": {
    "slideshow": {
     "slide_type": "subslide"
    }
   },
   "source": [
    "## The original data format is spreadsheet\n",
    "\n",
    "We can use `pd.read_excel` for importing."
   ]
  },
  {
   "cell_type": "markdown",
   "metadata": {
    "slideshow": {
     "slide_type": "subslide"
    }
   },
   "source": [
    "## Importing the presidential data of 臺北市\n",
    "\n",
    "- We use `quote_plus` function from `urllib.parse` to transform file name into a URL\n",
    "- Check the list of spreadsheets before importing"
   ]
  },
  {
   "cell_type": "code",
   "execution_count": 2,
   "metadata": {
    "slideshow": {
     "slide_type": "subslide"
    }
   },
   "outputs": [
    {
     "name": "stdout",
     "output_type": "stream",
     "text": [
      "['臺北市']\n"
     ]
    }
   ],
   "source": [
    "file_name = \"總統-A05-4-候選人得票數一覽表-各投開票所(臺北市).xls\"\n",
    "file_url = quote_plus(file_name)\n",
    "spreadsheet_url = \"https://taiwan-election-data.s3-ap-northeast-1.amazonaws.com/presidential_2020/{}\".format(file_url)\n",
    "xl = pd.ExcelFile(spreadsheet_url)\n",
    "print(xl.sheet_names)"
   ]
  },
  {
   "cell_type": "code",
   "execution_count": 3,
   "metadata": {
    "slideshow": {
     "slide_type": "subslide"
    }
   },
   "outputs": [
    {
     "data": {
      "text/html": [
       "<div>\n",
       "<style scoped>\n",
       "    .dataframe tbody tr th:only-of-type {\n",
       "        vertical-align: middle;\n",
       "    }\n",
       "\n",
       "    .dataframe tbody tr th {\n",
       "        vertical-align: top;\n",
       "    }\n",
       "\n",
       "    .dataframe thead th {\n",
       "        text-align: right;\n",
       "    }\n",
       "</style>\n",
       "<table border=\"1\" class=\"dataframe\">\n",
       "  <thead>\n",
       "    <tr style=\"text-align: right;\">\n",
       "      <th></th>\n",
       "      <th>第15任總統副總統選舉候選人在臺北市各投開票所得票數一覽表</th>\n",
       "      <th>Unnamed: 1</th>\n",
       "      <th>Unnamed: 2</th>\n",
       "      <th>Unnamed: 3</th>\n",
       "      <th>Unnamed: 4</th>\n",
       "      <th>Unnamed: 5</th>\n",
       "      <th>Unnamed: 6</th>\n",
       "      <th>Unnamed: 7</th>\n",
       "      <th>Unnamed: 8</th>\n",
       "      <th>Unnamed: 9</th>\n",
       "      <th>Unnamed: 10</th>\n",
       "      <th>Unnamed: 11</th>\n",
       "      <th>Unnamed: 12</th>\n",
       "      <th>Unnamed: 13</th>\n",
       "    </tr>\n",
       "  </thead>\n",
       "  <tbody>\n",
       "    <tr>\n",
       "      <th>0</th>\n",
       "      <td>鄉(鎮、市、區)別</td>\n",
       "      <td>村里別</td>\n",
       "      <td>投票所別</td>\n",
       "      <td>各組候選人得票情形</td>\n",
       "      <td>NaN</td>\n",
       "      <td>NaN</td>\n",
       "      <td>有效票數A\\nA=1+2+...+N</td>\n",
       "      <td>無效票數B</td>\n",
       "      <td>投票數C\\nC=A+B</td>\n",
       "      <td>已領未投票數\\nD\\nD=E-C</td>\n",
       "      <td>發出票數E\\nE=C+D</td>\n",
       "      <td>用餘票數F</td>\n",
       "      <td>選舉人數G\\nG=E+F</td>\n",
       "      <td>投票率H\\nH=C÷G</td>\n",
       "    </tr>\n",
       "    <tr>\n",
       "      <th>1</th>\n",
       "      <td>NaN</td>\n",
       "      <td>NaN</td>\n",
       "      <td>NaN</td>\n",
       "      <td>(1)\\n宋楚瑜\\n余湘</td>\n",
       "      <td>(2)\\n韓國瑜\\n張善政</td>\n",
       "      <td>(3)\\n蔡英文\\n賴清德</td>\n",
       "      <td>NaN</td>\n",
       "      <td>NaN</td>\n",
       "      <td>NaN</td>\n",
       "      <td>NaN</td>\n",
       "      <td>NaN</td>\n",
       "      <td>NaN</td>\n",
       "      <td>NaN</td>\n",
       "      <td>NaN</td>\n",
       "    </tr>\n",
       "    <tr>\n",
       "      <th>2</th>\n",
       "      <td>NaN</td>\n",
       "      <td>NaN</td>\n",
       "      <td>NaN</td>\n",
       "      <td>NaN</td>\n",
       "      <td>NaN</td>\n",
       "      <td>NaN</td>\n",
       "      <td>NaN</td>\n",
       "      <td>NaN</td>\n",
       "      <td>NaN</td>\n",
       "      <td>NaN</td>\n",
       "      <td>NaN</td>\n",
       "      <td>NaN</td>\n",
       "      <td>NaN</td>\n",
       "      <td>NaN</td>\n",
       "    </tr>\n",
       "    <tr>\n",
       "      <th>3</th>\n",
       "      <td>NaN</td>\n",
       "      <td>NaN</td>\n",
       "      <td>NaN</td>\n",
       "      <td>NaN</td>\n",
       "      <td>NaN</td>\n",
       "      <td>NaN</td>\n",
       "      <td>NaN</td>\n",
       "      <td>NaN</td>\n",
       "      <td>NaN</td>\n",
       "      <td>NaN</td>\n",
       "      <td>NaN</td>\n",
       "      <td>NaN</td>\n",
       "      <td>NaN</td>\n",
       "      <td>NaN</td>\n",
       "    </tr>\n",
       "    <tr>\n",
       "      <th>4</th>\n",
       "      <td>總　計</td>\n",
       "      <td>NaN</td>\n",
       "      <td>NaN</td>\n",
       "      <td>70,769</td>\n",
       "      <td>685,830</td>\n",
       "      <td>875,854</td>\n",
       "      <td>1,632,453</td>\n",
       "      <td>21,381</td>\n",
       "      <td>1,653,834</td>\n",
       "      <td>143</td>\n",
       "      <td>1,653,977</td>\n",
       "      <td>513,287</td>\n",
       "      <td>2,167,264</td>\n",
       "      <td>76.3098</td>\n",
       "    </tr>\n",
       "  </tbody>\n",
       "</table>\n",
       "</div>"
      ],
      "text/plain": [
       "  第15任總統副總統選舉候選人在臺北市各投開票所得票數一覽表 Unnamed: 1 Unnamed: 2    Unnamed: 3  \\\n",
       "0                     鄉(鎮、市、區)別        村里別       投票所別     各組候選人得票情形   \n",
       "1                           NaN        NaN        NaN  (1)\\n宋楚瑜\\n余湘   \n",
       "2                           NaN        NaN        NaN           NaN   \n",
       "3                           NaN        NaN        NaN           NaN   \n",
       "4                           總　計        NaN        NaN        70,769   \n",
       "\n",
       "      Unnamed: 4     Unnamed: 5          Unnamed: 6 Unnamed: 7   Unnamed: 8  \\\n",
       "0            NaN            NaN  有效票數A\\nA=1+2+...+N      無效票數B  投票數C\\nC=A+B   \n",
       "1  (2)\\n韓國瑜\\n張善政  (3)\\n蔡英文\\n賴清德                 NaN        NaN          NaN   \n",
       "2            NaN            NaN                 NaN        NaN          NaN   \n",
       "3            NaN            NaN                 NaN        NaN          NaN   \n",
       "4        685,830        875,854           1,632,453     21,381    1,653,834   \n",
       "\n",
       "         Unnamed: 9   Unnamed: 10 Unnamed: 11   Unnamed: 12  Unnamed: 13  \n",
       "0  已領未投票數\\nD\\nD=E-C  發出票數E\\nE=C+D       用餘票數F  選舉人數G\\nG=E+F  投票率H\\nH=C÷G  \n",
       "1               NaN           NaN         NaN           NaN          NaN  \n",
       "2               NaN           NaN         NaN           NaN          NaN  \n",
       "3               NaN           NaN         NaN           NaN          NaN  \n",
       "4               143     1,653,977     513,287     2,167,264      76.3098  "
      ]
     },
     "execution_count": 3,
     "metadata": {},
     "output_type": "execute_result"
    }
   ],
   "source": [
    "df = pd.read_excel(spreadsheet_url)\n",
    "df.head()"
   ]
  },
  {
   "cell_type": "markdown",
   "metadata": {
    "slideshow": {
     "slide_type": "subslide"
    }
   },
   "source": [
    "## Importing the legislative data of 臺北市\n",
    "\n",
    "- The regional legislative spreadsheets are a bit more complicated than other spreadsheets\n",
    "- Check the list of spreadsheets before importing"
   ]
  },
  {
   "cell_type": "code",
   "execution_count": 4,
   "metadata": {
    "slideshow": {
     "slide_type": "subslide"
    }
   },
   "outputs": [
    {
     "name": "stdout",
     "output_type": "stream",
     "text": [
      "['臺北市第1選舉區', '臺北市第2選舉區', '臺北市第3選舉區', '臺北市第4選舉區', '臺北市第5選舉區', '臺北市第6選舉區', '臺北市第7選舉區', '臺北市第8選舉區']\n"
     ]
    }
   ],
   "source": [
    "file_name = \"區域立委-A05-2-得票數一覽表(臺北市).xls\"\n",
    "file_url = quote_plus(file_name)\n",
    "spreadsheet_url = \"https://taiwan-election-data.s3-ap-northeast-1.amazonaws.com/legislative_2020/{}\".format(file_url)\n",
    "xl = pd.ExcelFile(spreadsheet_url)\n",
    "print(xl.sheet_names)"
   ]
  },
  {
   "cell_type": "markdown",
   "metadata": {
    "slideshow": {
     "slide_type": "subslide"
    }
   },
   "source": [
    "## We can specify which sheet to import via `sheet_name`"
   ]
  },
  {
   "cell_type": "code",
   "execution_count": 5,
   "metadata": {
    "slideshow": {
     "slide_type": "subslide"
    }
   },
   "outputs": [
    {
     "name": "stdout",
     "output_type": "stream",
     "text": [
      "Shape of 臺北市第1選舉區 : (219, 18)\n",
      "Shape of 臺北市第2選舉區 : (224, 17)\n",
      "Shape of 臺北市第3選舉區 : (233, 15)\n",
      "Shape of 臺北市第4選舉區 : (248, 18)\n",
      "Shape of 臺北市第5選舉區 : (225, 19)\n",
      "Shape of 臺北市第6選舉區 : (200, 21)\n",
      "Shape of 臺北市第7選舉區 : (222, 16)\n",
      "Shape of 臺北市第8選舉區 : (212, 20)\n"
     ]
    }
   ],
   "source": [
    "regional_legislator_taipei_city = {}\n",
    "for sheet_name in xl.sheet_names:\n",
    "    regional_legislator_taipei_city[sheet_name] = pd.read_excel(spreadsheet_url, sheet_name=sheet_name)\n",
    "for k, v in regional_legislator_taipei_city.items():\n",
    "    print(\"Shape of {} : {}\".format(k, v.shape))"
   ]
  },
  {
   "cell_type": "code",
   "execution_count": 6,
   "metadata": {
    "slideshow": {
     "slide_type": "subslide"
    }
   },
   "outputs": [
    {
     "name": "stdout",
     "output_type": "stream",
     "text": [
      "['臺北市']\n"
     ]
    }
   ],
   "source": [
    "file_name = \"不分區立委-A05-6-得票數一覽表(臺北市).xls\"\n",
    "file_url = quote_plus(file_name)\n",
    "spreadsheet_url = \"https://taiwan-election-data.s3-ap-northeast-1.amazonaws.com/legislative_2020/{}\".format(file_url)\n",
    "xl = pd.ExcelFile(spreadsheet_url)\n",
    "print(xl.sheet_names)"
   ]
  },
  {
   "cell_type": "code",
   "execution_count": 7,
   "metadata": {
    "slideshow": {
     "slide_type": "subslide"
    }
   },
   "outputs": [
    {
     "name": "stdout",
     "output_type": "stream",
     "text": [
      "['臺北市']\n"
     ]
    }
   ],
   "source": [
    "file_name = \"山地立委-A05-4-得票數一覽表(臺北市).xls\"\n",
    "file_url = quote_plus(file_name)\n",
    "spreadsheet_url = \"https://taiwan-election-data.s3-ap-northeast-1.amazonaws.com/legislative_2020/{}\".format(file_url)\n",
    "xl = pd.ExcelFile(spreadsheet_url)\n",
    "print(xl.sheet_names)"
   ]
  },
  {
   "cell_type": "code",
   "execution_count": 8,
   "metadata": {
    "slideshow": {
     "slide_type": "subslide"
    }
   },
   "outputs": [
    {
     "name": "stdout",
     "output_type": "stream",
     "text": [
      "['臺北市']\n"
     ]
    }
   ],
   "source": [
    "file_name = \"平地立委-A05-4-得票數一覽表(臺北市).xls\"\n",
    "file_url = quote_plus(file_name)\n",
    "spreadsheet_url = \"https://taiwan-election-data.s3-ap-northeast-1.amazonaws.com/legislative_2020/{}\".format(file_url)\n",
    "xl = pd.ExcelFile(spreadsheet_url)\n",
    "print(xl.sheet_names)"
   ]
  },
  {
   "cell_type": "markdown",
   "metadata": {
    "slideshow": {
     "slide_type": "slide"
    }
   },
   "source": [
    "## Wrangling Data"
   ]
  },
  {
   "cell_type": "markdown",
   "metadata": {
    "slideshow": {
     "slide_type": "subslide"
    }
   },
   "source": [
    "## Once the import part is done, it is time to wrangle the messy spreashets into a tidy data format\n",
    "\n",
    "> Tidy datasets are all alike, but every messy dataset is messy in its own way\n",
    ">\n",
    "> [Hadley Wickham](http://hadley.nz/)"
   ]
  },
  {
   "cell_type": "markdown",
   "metadata": {
    "slideshow": {
     "slide_type": "subslide"
    }
   },
   "source": [
    "## What is tidy data?\n",
    "\n",
    "> There are three interrelated rules which make a dataset tidy:\n",
    "> \n",
    "> 1. Each variable must have its own column.\n",
    "> 2. Each observation must have its own row.\n",
    "> 3. Each value must have its own cell.\n",
    "\n",
    "Source: <https://vita.had.co.nz/papers/tidy-data.pdf>"
   ]
  },
  {
   "cell_type": "markdown",
   "metadata": {
    "slideshow": {
     "slide_type": "subslide"
    }
   },
   "source": [
    "## Why tidy data?\n",
    "\n",
    "Simply put, once our data is in tidy format, it is easy to use and quite convenient to tranform into the designated format of visualization or modeling functions for the next stage of data science project."
   ]
  },
  {
   "cell_type": "markdown",
   "metadata": {
    "slideshow": {
     "slide_type": "subslide"
    }
   },
   "source": [
    "## What makes our original spreadsheets messy?\n",
    "\n",
    "- Combined cells\n",
    "- Missing values\n",
    "- Summations within observations\n",
    "- Value in variable names"
   ]
  },
  {
   "cell_type": "markdown",
   "metadata": {
    "slideshow": {
     "slide_type": "subslide"
    }
   },
   "source": [
    "## Using `skiprows` to skip those combined cells while importing spreadsheets"
   ]
  },
  {
   "cell_type": "code",
   "execution_count": 9,
   "metadata": {},
   "outputs": [],
   "source": [
    "file_name = \"總統-A05-4-候選人得票數一覽表-各投開票所(臺北市).xls\"\n",
    "file_url = quote_plus(file_name)\n",
    "spreadsheet_url = \"https://taiwan-election-data.s3-ap-northeast-1.amazonaws.com/presidential_2020/{}\".format(file_url)\n",
    "df = pd.read_excel(spreadsheet_url, skiprows=[0, 1, 3, 4], thousands=',')"
   ]
  },
  {
   "cell_type": "code",
   "execution_count": 10,
   "metadata": {
    "slideshow": {
     "slide_type": "subslide"
    }
   },
   "outputs": [
    {
     "data": {
      "text/html": [
       "<div>\n",
       "<style scoped>\n",
       "    .dataframe tbody tr th:only-of-type {\n",
       "        vertical-align: middle;\n",
       "    }\n",
       "\n",
       "    .dataframe tbody tr th {\n",
       "        vertical-align: top;\n",
       "    }\n",
       "\n",
       "    .dataframe thead th {\n",
       "        text-align: right;\n",
       "    }\n",
       "</style>\n",
       "<table border=\"1\" class=\"dataframe\">\n",
       "  <thead>\n",
       "    <tr style=\"text-align: right;\">\n",
       "      <th></th>\n",
       "      <th>Unnamed: 0</th>\n",
       "      <th>Unnamed: 1</th>\n",
       "      <th>Unnamed: 2</th>\n",
       "      <th>(1)\\n宋楚瑜\\n余湘</th>\n",
       "      <th>(2)\\n韓國瑜\\n張善政</th>\n",
       "      <th>(3)\\n蔡英文\\n賴清德</th>\n",
       "      <th>Unnamed: 6</th>\n",
       "      <th>Unnamed: 7</th>\n",
       "      <th>Unnamed: 8</th>\n",
       "      <th>Unnamed: 9</th>\n",
       "      <th>Unnamed: 10</th>\n",
       "      <th>Unnamed: 11</th>\n",
       "      <th>Unnamed: 12</th>\n",
       "      <th>Unnamed: 13</th>\n",
       "    </tr>\n",
       "  </thead>\n",
       "  <tbody>\n",
       "    <tr>\n",
       "      <th>0</th>\n",
       "      <td>總　計</td>\n",
       "      <td>NaN</td>\n",
       "      <td>NaN</td>\n",
       "      <td>70769</td>\n",
       "      <td>685830</td>\n",
       "      <td>875854</td>\n",
       "      <td>1632453</td>\n",
       "      <td>21381</td>\n",
       "      <td>1653834</td>\n",
       "      <td>143</td>\n",
       "      <td>1653977</td>\n",
       "      <td>513287</td>\n",
       "      <td>2167264</td>\n",
       "      <td>76.3098</td>\n",
       "    </tr>\n",
       "    <tr>\n",
       "      <th>1</th>\n",
       "      <td>松山區</td>\n",
       "      <td>NaN</td>\n",
       "      <td>NaN</td>\n",
       "      <td>5436</td>\n",
       "      <td>55918</td>\n",
       "      <td>64207</td>\n",
       "      <td>125561</td>\n",
       "      <td>1762</td>\n",
       "      <td>127323</td>\n",
       "      <td>2</td>\n",
       "      <td>127325</td>\n",
       "      <td>37329</td>\n",
       "      <td>164654</td>\n",
       "      <td>77.3276</td>\n",
       "    </tr>\n",
       "    <tr>\n",
       "      <th>2</th>\n",
       "      <td>NaN</td>\n",
       "      <td>莊敬里</td>\n",
       "      <td>573.0</td>\n",
       "      <td>36</td>\n",
       "      <td>391</td>\n",
       "      <td>429</td>\n",
       "      <td>856</td>\n",
       "      <td>14</td>\n",
       "      <td>870</td>\n",
       "      <td>0</td>\n",
       "      <td>870</td>\n",
       "      <td>230</td>\n",
       "      <td>1100</td>\n",
       "      <td>79.0909</td>\n",
       "    </tr>\n",
       "    <tr>\n",
       "      <th>3</th>\n",
       "      <td>NaN</td>\n",
       "      <td>莊敬里</td>\n",
       "      <td>574.0</td>\n",
       "      <td>46</td>\n",
       "      <td>382</td>\n",
       "      <td>438</td>\n",
       "      <td>866</td>\n",
       "      <td>12</td>\n",
       "      <td>878</td>\n",
       "      <td>0</td>\n",
       "      <td>878</td>\n",
       "      <td>259</td>\n",
       "      <td>1137</td>\n",
       "      <td>77.2208</td>\n",
       "    </tr>\n",
       "    <tr>\n",
       "      <th>4</th>\n",
       "      <td>NaN</td>\n",
       "      <td>莊敬里</td>\n",
       "      <td>575.0</td>\n",
       "      <td>48</td>\n",
       "      <td>393</td>\n",
       "      <td>389</td>\n",
       "      <td>830</td>\n",
       "      <td>22</td>\n",
       "      <td>852</td>\n",
       "      <td>0</td>\n",
       "      <td>852</td>\n",
       "      <td>262</td>\n",
       "      <td>1114</td>\n",
       "      <td>76.4811</td>\n",
       "    </tr>\n",
       "  </tbody>\n",
       "</table>\n",
       "</div>"
      ],
      "text/plain": [
       "  Unnamed: 0 Unnamed: 1  Unnamed: 2  (1)\\n宋楚瑜\\n余湘  (2)\\n韓國瑜\\n張善政  \\\n",
       "0        總　計        NaN         NaN         70769         685830   \n",
       "1       　松山區        NaN         NaN          5436          55918   \n",
       "2        NaN        莊敬里       573.0            36            391   \n",
       "3        NaN        莊敬里       574.0            46            382   \n",
       "4        NaN        莊敬里       575.0            48            393   \n",
       "\n",
       "   (3)\\n蔡英文\\n賴清德  Unnamed: 6  Unnamed: 7  Unnamed: 8  Unnamed: 9  Unnamed: 10  \\\n",
       "0         875854     1632453       21381     1653834         143      1653977   \n",
       "1          64207      125561        1762      127323           2       127325   \n",
       "2            429         856          14         870           0          870   \n",
       "3            438         866          12         878           0          878   \n",
       "4            389         830          22         852           0          852   \n",
       "\n",
       "   Unnamed: 11  Unnamed: 12  Unnamed: 13  \n",
       "0       513287      2167264      76.3098  \n",
       "1        37329       164654      77.3276  \n",
       "2          230         1100      79.0909  \n",
       "3          259         1137      77.2208  \n",
       "4          262         1114      76.4811  "
      ]
     },
     "execution_count": 10,
     "metadata": {},
     "output_type": "execute_result"
    }
   ],
   "source": [
    "df.head()"
   ]
  },
  {
   "cell_type": "markdown",
   "metadata": {
    "slideshow": {
     "slide_type": "subslide"
    }
   },
   "source": [
    "## Updating `columns` attributes with new columns"
   ]
  },
  {
   "cell_type": "code",
   "execution_count": 11,
   "metadata": {},
   "outputs": [],
   "source": [
    "n_cols = df.columns.size\n",
    "n_candidates = n_cols - 11\n",
    "id_vars = ['town', 'village', 'office']\n",
    "candidates = list(df.columns[3:(3 + n_candidates)])\n",
    "office_cols = list(ascii_uppercase[:8])\n",
    "col_names = id_vars + candidates + office_cols\n",
    "df.columns = col_names"
   ]
  },
  {
   "cell_type": "code",
   "execution_count": 12,
   "metadata": {
    "slideshow": {
     "slide_type": "subslide"
    }
   },
   "outputs": [
    {
     "name": "stdout",
     "output_type": "stream",
     "text": [
      "3\n",
      "['(1)\\n宋楚瑜\\n余湘', '(2)\\n韓國瑜\\n張善政', '(3)\\n蔡英文\\n賴清德']\n",
      "['A', 'B', 'C', 'D', 'E', 'F', 'G', 'H']\n",
      "['town', 'village', 'office', '(1)\\n宋楚瑜\\n余湘', '(2)\\n韓國瑜\\n張善政', '(3)\\n蔡英文\\n賴清德', 'A', 'B', 'C', 'D', 'E', 'F', 'G', 'H']\n"
     ]
    }
   ],
   "source": [
    "print(n_candidates)\n",
    "print(candidates)\n",
    "print(office_cols)\n",
    "print(col_names)"
   ]
  },
  {
   "cell_type": "markdown",
   "metadata": {
    "slideshow": {
     "slide_type": "subslide"
    }
   },
   "source": [
    "## Using `fillna` to forward-fill `district` values\n",
    "\n",
    "`ffill`: propagate last valid observation forward to next valid."
   ]
  },
  {
   "cell_type": "code",
   "execution_count": 13,
   "metadata": {},
   "outputs": [
    {
     "data": {
      "text/html": [
       "<div>\n",
       "<style scoped>\n",
       "    .dataframe tbody tr th:only-of-type {\n",
       "        vertical-align: middle;\n",
       "    }\n",
       "\n",
       "    .dataframe tbody tr th {\n",
       "        vertical-align: top;\n",
       "    }\n",
       "\n",
       "    .dataframe thead th {\n",
       "        text-align: right;\n",
       "    }\n",
       "</style>\n",
       "<table border=\"1\" class=\"dataframe\">\n",
       "  <thead>\n",
       "    <tr style=\"text-align: right;\">\n",
       "      <th></th>\n",
       "      <th>town</th>\n",
       "      <th>village</th>\n",
       "      <th>office</th>\n",
       "      <th>(1)\\n宋楚瑜\\n余湘</th>\n",
       "      <th>(2)\\n韓國瑜\\n張善政</th>\n",
       "      <th>(3)\\n蔡英文\\n賴清德</th>\n",
       "      <th>A</th>\n",
       "      <th>B</th>\n",
       "      <th>C</th>\n",
       "      <th>D</th>\n",
       "      <th>E</th>\n",
       "      <th>F</th>\n",
       "      <th>G</th>\n",
       "      <th>H</th>\n",
       "    </tr>\n",
       "  </thead>\n",
       "  <tbody>\n",
       "    <tr>\n",
       "      <th>0</th>\n",
       "      <td>總　計</td>\n",
       "      <td>NaN</td>\n",
       "      <td>NaN</td>\n",
       "      <td>70769</td>\n",
       "      <td>685830</td>\n",
       "      <td>875854</td>\n",
       "      <td>1632453</td>\n",
       "      <td>21381</td>\n",
       "      <td>1653834</td>\n",
       "      <td>143</td>\n",
       "      <td>1653977</td>\n",
       "      <td>513287</td>\n",
       "      <td>2167264</td>\n",
       "      <td>76.3098</td>\n",
       "    </tr>\n",
       "    <tr>\n",
       "      <th>1</th>\n",
       "      <td>松山區</td>\n",
       "      <td>NaN</td>\n",
       "      <td>NaN</td>\n",
       "      <td>5436</td>\n",
       "      <td>55918</td>\n",
       "      <td>64207</td>\n",
       "      <td>125561</td>\n",
       "      <td>1762</td>\n",
       "      <td>127323</td>\n",
       "      <td>2</td>\n",
       "      <td>127325</td>\n",
       "      <td>37329</td>\n",
       "      <td>164654</td>\n",
       "      <td>77.3276</td>\n",
       "    </tr>\n",
       "    <tr>\n",
       "      <th>2</th>\n",
       "      <td>松山區</td>\n",
       "      <td>莊敬里</td>\n",
       "      <td>573.0</td>\n",
       "      <td>36</td>\n",
       "      <td>391</td>\n",
       "      <td>429</td>\n",
       "      <td>856</td>\n",
       "      <td>14</td>\n",
       "      <td>870</td>\n",
       "      <td>0</td>\n",
       "      <td>870</td>\n",
       "      <td>230</td>\n",
       "      <td>1100</td>\n",
       "      <td>79.0909</td>\n",
       "    </tr>\n",
       "    <tr>\n",
       "      <th>3</th>\n",
       "      <td>松山區</td>\n",
       "      <td>莊敬里</td>\n",
       "      <td>574.0</td>\n",
       "      <td>46</td>\n",
       "      <td>382</td>\n",
       "      <td>438</td>\n",
       "      <td>866</td>\n",
       "      <td>12</td>\n",
       "      <td>878</td>\n",
       "      <td>0</td>\n",
       "      <td>878</td>\n",
       "      <td>259</td>\n",
       "      <td>1137</td>\n",
       "      <td>77.2208</td>\n",
       "    </tr>\n",
       "    <tr>\n",
       "      <th>4</th>\n",
       "      <td>松山區</td>\n",
       "      <td>莊敬里</td>\n",
       "      <td>575.0</td>\n",
       "      <td>48</td>\n",
       "      <td>393</td>\n",
       "      <td>389</td>\n",
       "      <td>830</td>\n",
       "      <td>22</td>\n",
       "      <td>852</td>\n",
       "      <td>0</td>\n",
       "      <td>852</td>\n",
       "      <td>262</td>\n",
       "      <td>1114</td>\n",
       "      <td>76.4811</td>\n",
       "    </tr>\n",
       "  </tbody>\n",
       "</table>\n",
       "</div>"
      ],
      "text/plain": [
       "   town village  office  (1)\\n宋楚瑜\\n余湘  (2)\\n韓國瑜\\n張善政  (3)\\n蔡英文\\n賴清德        A  \\\n",
       "0   總　計     NaN     NaN         70769         685830         875854  1632453   \n",
       "1  　松山區     NaN     NaN          5436          55918          64207   125561   \n",
       "2  　松山區     莊敬里   573.0            36            391            429      856   \n",
       "3  　松山區     莊敬里   574.0            46            382            438      866   \n",
       "4  　松山區     莊敬里   575.0            48            393            389      830   \n",
       "\n",
       "       B        C    D        E       F        G        H  \n",
       "0  21381  1653834  143  1653977  513287  2167264  76.3098  \n",
       "1   1762   127323    2   127325   37329   164654  77.3276  \n",
       "2     14      870    0      870     230     1100  79.0909  \n",
       "3     12      878    0      878     259     1137  77.2208  \n",
       "4     22      852    0      852     262     1114  76.4811  "
      ]
     },
     "execution_count": 13,
     "metadata": {},
     "output_type": "execute_result"
    }
   ],
   "source": [
    "filled_towns = df['town'].fillna(method='ffill')\n",
    "df = df.assign(town=filled_towns)\n",
    "df.head()"
   ]
  },
  {
   "cell_type": "markdown",
   "metadata": {
    "slideshow": {
     "slide_type": "subslide"
    }
   },
   "source": [
    "## Removing summations via `dropna`\n",
    "\n",
    "- To comply with the tidy data rule\n",
    "- To avoid wrong summations"
   ]
  },
  {
   "cell_type": "code",
   "execution_count": 14,
   "metadata": {},
   "outputs": [
    {
     "data": {
      "text/html": [
       "<div>\n",
       "<style scoped>\n",
       "    .dataframe tbody tr th:only-of-type {\n",
       "        vertical-align: middle;\n",
       "    }\n",
       "\n",
       "    .dataframe tbody tr th {\n",
       "        vertical-align: top;\n",
       "    }\n",
       "\n",
       "    .dataframe thead th {\n",
       "        text-align: right;\n",
       "    }\n",
       "</style>\n",
       "<table border=\"1\" class=\"dataframe\">\n",
       "  <thead>\n",
       "    <tr style=\"text-align: right;\">\n",
       "      <th></th>\n",
       "      <th>town</th>\n",
       "      <th>village</th>\n",
       "      <th>office</th>\n",
       "      <th>(1)\\n宋楚瑜\\n余湘</th>\n",
       "      <th>(2)\\n韓國瑜\\n張善政</th>\n",
       "      <th>(3)\\n蔡英文\\n賴清德</th>\n",
       "      <th>A</th>\n",
       "      <th>B</th>\n",
       "      <th>C</th>\n",
       "      <th>D</th>\n",
       "      <th>E</th>\n",
       "      <th>F</th>\n",
       "      <th>G</th>\n",
       "      <th>H</th>\n",
       "    </tr>\n",
       "  </thead>\n",
       "  <tbody>\n",
       "    <tr>\n",
       "      <th>2</th>\n",
       "      <td>松山區</td>\n",
       "      <td>莊敬里</td>\n",
       "      <td>573.0</td>\n",
       "      <td>36</td>\n",
       "      <td>391</td>\n",
       "      <td>429</td>\n",
       "      <td>856</td>\n",
       "      <td>14</td>\n",
       "      <td>870</td>\n",
       "      <td>0</td>\n",
       "      <td>870</td>\n",
       "      <td>230</td>\n",
       "      <td>1100</td>\n",
       "      <td>79.0909</td>\n",
       "    </tr>\n",
       "    <tr>\n",
       "      <th>3</th>\n",
       "      <td>松山區</td>\n",
       "      <td>莊敬里</td>\n",
       "      <td>574.0</td>\n",
       "      <td>46</td>\n",
       "      <td>382</td>\n",
       "      <td>438</td>\n",
       "      <td>866</td>\n",
       "      <td>12</td>\n",
       "      <td>878</td>\n",
       "      <td>0</td>\n",
       "      <td>878</td>\n",
       "      <td>259</td>\n",
       "      <td>1137</td>\n",
       "      <td>77.2208</td>\n",
       "    </tr>\n",
       "    <tr>\n",
       "      <th>4</th>\n",
       "      <td>松山區</td>\n",
       "      <td>莊敬里</td>\n",
       "      <td>575.0</td>\n",
       "      <td>48</td>\n",
       "      <td>393</td>\n",
       "      <td>389</td>\n",
       "      <td>830</td>\n",
       "      <td>22</td>\n",
       "      <td>852</td>\n",
       "      <td>0</td>\n",
       "      <td>852</td>\n",
       "      <td>262</td>\n",
       "      <td>1114</td>\n",
       "      <td>76.4811</td>\n",
       "    </tr>\n",
       "    <tr>\n",
       "      <th>5</th>\n",
       "      <td>松山區</td>\n",
       "      <td>莊敬里</td>\n",
       "      <td>576.0</td>\n",
       "      <td>43</td>\n",
       "      <td>389</td>\n",
       "      <td>462</td>\n",
       "      <td>894</td>\n",
       "      <td>14</td>\n",
       "      <td>908</td>\n",
       "      <td>0</td>\n",
       "      <td>908</td>\n",
       "      <td>271</td>\n",
       "      <td>1179</td>\n",
       "      <td>77.0144</td>\n",
       "    </tr>\n",
       "    <tr>\n",
       "      <th>6</th>\n",
       "      <td>松山區</td>\n",
       "      <td>東榮里</td>\n",
       "      <td>577.0</td>\n",
       "      <td>38</td>\n",
       "      <td>431</td>\n",
       "      <td>545</td>\n",
       "      <td>1014</td>\n",
       "      <td>18</td>\n",
       "      <td>1032</td>\n",
       "      <td>0</td>\n",
       "      <td>1032</td>\n",
       "      <td>272</td>\n",
       "      <td>1304</td>\n",
       "      <td>79.1411</td>\n",
       "    </tr>\n",
       "  </tbody>\n",
       "</table>\n",
       "</div>"
      ],
      "text/plain": [
       "   town village  office  (1)\\n宋楚瑜\\n余湘  (2)\\n韓國瑜\\n張善政  (3)\\n蔡英文\\n賴清德     A   B  \\\n",
       "2  　松山區     莊敬里   573.0            36            391            429   856  14   \n",
       "3  　松山區     莊敬里   574.0            46            382            438   866  12   \n",
       "4  　松山區     莊敬里   575.0            48            393            389   830  22   \n",
       "5  　松山區     莊敬里   576.0            43            389            462   894  14   \n",
       "6  　松山區     東榮里   577.0            38            431            545  1014  18   \n",
       "\n",
       "      C  D     E    F     G        H  \n",
       "2   870  0   870  230  1100  79.0909  \n",
       "3   878  0   878  259  1137  77.2208  \n",
       "4   852  0   852  262  1114  76.4811  \n",
       "5   908  0   908  271  1179  77.0144  \n",
       "6  1032  0  1032  272  1304  79.1411  "
      ]
     },
     "execution_count": 14,
     "metadata": {},
     "output_type": "execute_result"
    }
   ],
   "source": [
    "df = df.dropna()\n",
    "df.head()"
   ]
  },
  {
   "cell_type": "markdown",
   "metadata": {
    "slideshow": {
     "slide_type": "subslide"
    }
   },
   "source": [
    "## Removing extra spaces in `town` via `replace`"
   ]
  },
  {
   "cell_type": "code",
   "execution_count": 15,
   "metadata": {},
   "outputs": [
    {
     "name": "stdout",
     "output_type": "stream",
     "text": [
      "['\\u3000松山區' '\\u3000信義區' '\\u3000大安區' '\\u3000中山區' '\\u3000中正區' '\\u3000大同區'\n",
      " '\\u3000萬華區' '\\u3000文山區' '\\u3000南港區' '\\u3000內湖區' '\\u3000士林區' '\\u3000北投區']\n",
      "['\\u3000松山區' '\\u3000信義區' '\\u3000大安區' '\\u3000中山區' '\\u3000中正區' '\\u3000大同區'\n",
      " '\\u3000萬華區' '\\u3000文山區' '\\u3000南港區' '\\u3000內湖區' '\\u3000士林區' '\\u3000北投區']\n"
     ]
    }
   ],
   "source": [
    "print(df['town'].unique())\n",
    "stripped_town = df['town'].str.replace(\"\\u3000\", \"\")\n",
    "df = df.assign(district=stripped_town)\n",
    "print(df['town'].unique())"
   ]
  },
  {
   "cell_type": "markdown",
   "metadata": {
    "slideshow": {
     "slide_type": "subslide"
    }
   },
   "source": [
    "## Pivoting candidate columns into a new pair of variables via `melt`"
   ]
  },
  {
   "cell_type": "code",
   "execution_count": 16,
   "metadata": {},
   "outputs": [
    {
     "data": {
      "text/html": [
       "<div>\n",
       "<style scoped>\n",
       "    .dataframe tbody tr th:only-of-type {\n",
       "        vertical-align: middle;\n",
       "    }\n",
       "\n",
       "    .dataframe tbody tr th {\n",
       "        vertical-align: top;\n",
       "    }\n",
       "\n",
       "    .dataframe thead th {\n",
       "        text-align: right;\n",
       "    }\n",
       "</style>\n",
       "<table border=\"1\" class=\"dataframe\">\n",
       "  <thead>\n",
       "    <tr style=\"text-align: right;\">\n",
       "      <th></th>\n",
       "      <th>town</th>\n",
       "      <th>village</th>\n",
       "      <th>office</th>\n",
       "      <th>candidate_info</th>\n",
       "      <th>votes</th>\n",
       "    </tr>\n",
       "  </thead>\n",
       "  <tbody>\n",
       "    <tr>\n",
       "      <th>0</th>\n",
       "      <td>松山區</td>\n",
       "      <td>莊敬里</td>\n",
       "      <td>573.0</td>\n",
       "      <td>(1)\\n宋楚瑜\\n余湘</td>\n",
       "      <td>36</td>\n",
       "    </tr>\n",
       "    <tr>\n",
       "      <th>1</th>\n",
       "      <td>松山區</td>\n",
       "      <td>莊敬里</td>\n",
       "      <td>574.0</td>\n",
       "      <td>(1)\\n宋楚瑜\\n余湘</td>\n",
       "      <td>46</td>\n",
       "    </tr>\n",
       "    <tr>\n",
       "      <th>2</th>\n",
       "      <td>松山區</td>\n",
       "      <td>莊敬里</td>\n",
       "      <td>575.0</td>\n",
       "      <td>(1)\\n宋楚瑜\\n余湘</td>\n",
       "      <td>48</td>\n",
       "    </tr>\n",
       "    <tr>\n",
       "      <th>3</th>\n",
       "      <td>松山區</td>\n",
       "      <td>莊敬里</td>\n",
       "      <td>576.0</td>\n",
       "      <td>(1)\\n宋楚瑜\\n余湘</td>\n",
       "      <td>43</td>\n",
       "    </tr>\n",
       "    <tr>\n",
       "      <th>4</th>\n",
       "      <td>松山區</td>\n",
       "      <td>東榮里</td>\n",
       "      <td>577.0</td>\n",
       "      <td>(1)\\n宋楚瑜\\n余湘</td>\n",
       "      <td>38</td>\n",
       "    </tr>\n",
       "  </tbody>\n",
       "</table>\n",
       "</div>"
      ],
      "text/plain": [
       "   town village  office candidate_info votes\n",
       "0  　松山區     莊敬里   573.0   (1)\\n宋楚瑜\\n余湘    36\n",
       "1  　松山區     莊敬里   574.0   (1)\\n宋楚瑜\\n余湘    46\n",
       "2  　松山區     莊敬里   575.0   (1)\\n宋楚瑜\\n余湘    48\n",
       "3  　松山區     莊敬里   576.0   (1)\\n宋楚瑜\\n余湘    43\n",
       "4  　松山區     東榮里   577.0   (1)\\n宋楚瑜\\n余湘    38"
      ]
     },
     "execution_count": 16,
     "metadata": {},
     "output_type": "execute_result"
    }
   ],
   "source": [
    "df = df.drop(labels=office_cols, axis=1)\n",
    "df_long = pd.melt(df,\n",
    "                  id_vars=id_vars,\n",
    "                  var_name='candidate_info',\n",
    "                  value_name='votes'\n",
    "                 )\n",
    "df_long.head()"
   ]
  },
  {
   "cell_type": "markdown",
   "metadata": {
    "slideshow": {
     "slide_type": "subslide"
    }
   },
   "source": [
    "## Define a function called `tidy_dataframe` which assembles previous wrangling codes"
   ]
  },
  {
   "cell_type": "code",
   "execution_count": 17,
   "metadata": {},
   "outputs": [],
   "source": [
    "def tidy_dataframe(df):\n",
    "    # updating columns attributes \n",
    "    n_cols = df.columns.size\n",
    "    n_candidates = n_cols - 11\n",
    "    id_vars = ['town', 'village', 'office']\n",
    "    candidates = list(df.columns[3:(3 + n_candidates)])\n",
    "    office_cols = list(ascii_uppercase[:8])\n",
    "    col_names = id_vars + candidates + office_cols\n",
    "    df.columns = col_names\n",
    "    # forward-fill town values\n",
    "    filled_towns = df['town'].fillna(method='ffill')\n",
    "    df = df.assign(town=filled_towns)\n",
    "    # removing summations\n",
    "    df = df.dropna()\n",
    "    # removing extra spaces\n",
    "    stripped_towns = df['town'].str.replace(\"\\u3000\", \"\")\n",
    "    df = df.assign(town=stripped_towns)\n",
    "    # pivoting\n",
    "    df = df.drop(labels=office_cols, axis=1)\n",
    "    tidy_df = pd.melt(df,\n",
    "                      id_vars=id_vars,\n",
    "                      var_name='candidate_info',\n",
    "                      value_name='votes'\n",
    "                     )\n",
    "    return tidy_df"
   ]
  },
  {
   "cell_type": "markdown",
   "metadata": {
    "slideshow": {
     "slide_type": "subslide"
    }
   },
   "source": [
    "## Retrieving city and county names from files we previously downloaded\n",
    "\n",
    "```python\n",
    "files = [i for i in os.listdir(\"presidential-2020/\") if not i.startswith('.')] # to skip those hidden files\n",
    "counties = [re.split(\"\\(|\\)\", f)[1] for f in files]\n",
    "print(files)\n",
    "print(counties)\n",
    "```"
   ]
  },
  {
   "cell_type": "markdown",
   "metadata": {
    "slideshow": {
     "slide_type": "subslide"
    }
   },
   "source": [
    "## Applying `tidy_dataframe` on presidential spreadsheets"
   ]
  },
  {
   "cell_type": "code",
   "execution_count": 18,
   "metadata": {},
   "outputs": [
    {
     "name": "stdout",
     "output_type": "stream",
     "text": [
      "Tidying 總統-A05-4-候選人得票數一覽表-各投開票所(宜蘭縣).xls\n",
      "Tidying 總統-A05-4-候選人得票數一覽表-各投開票所(彰化縣).xls\n",
      "Tidying 總統-A05-4-候選人得票數一覽表-各投開票所(金門縣).xls\n",
      "Tidying 總統-A05-4-候選人得票數一覽表-各投開票所(桃園市).xls\n",
      "Tidying 總統-A05-4-候選人得票數一覽表-各投開票所(苗栗縣).xls\n",
      "Tidying 總統-A05-4-候選人得票數一覽表-各投開票所(臺南市).xls\n",
      "Tidying 總統-A05-4-候選人得票數一覽表-各投開票所(雲林縣).xls\n",
      "Tidying 總統-A05-4-候選人得票數一覽表-各投開票所(南投縣).xls\n",
      "Tidying 總統-A05-4-候選人得票數一覽表-各投開票所(高雄市).xls\n",
      "Tidying 總統-A05-4-候選人得票數一覽表-各投開票所(臺北市).xls\n",
      "Tidying 總統-A05-4-候選人得票數一覽表-各投開票所(新北市).xls\n",
      "Tidying 總統-A05-4-候選人得票數一覽表-各投開票所(花蓮縣).xls\n",
      "Tidying 總統-A05-4-候選人得票數一覽表-各投開票所(新竹市).xls\n",
      "Tidying 總統-A05-4-候選人得票數一覽表-各投開票所(新竹縣).xls\n",
      "Tidying 總統-A05-4-候選人得票數一覽表-各投開票所(基隆市).xls\n",
      "Tidying 總統-A05-4-候選人得票數一覽表-各投開票所(連江縣).xls\n",
      "Tidying 總統-A05-4-候選人得票數一覽表-各投開票所(嘉義縣).xls\n",
      "Tidying 總統-A05-4-候選人得票數一覽表-各投開票所(嘉義市).xls\n",
      "Tidying 總統-A05-4-候選人得票數一覽表-各投開票所(屏東縣).xls\n",
      "Tidying 總統-A05-4-候選人得票數一覽表-各投開票所(澎湖縣).xls\n",
      "Tidying 總統-A05-4-候選人得票數一覽表-各投開票所(臺東縣).xls\n",
      "Tidying 總統-A05-4-候選人得票數一覽表-各投開票所(臺中市).xls\n"
     ]
    }
   ],
   "source": [
    "counties = ['宜蘭縣', '彰化縣', '金門縣', '桃園市', '苗栗縣', '臺南市', '雲林縣', '南投縣', '高雄市', '臺北市', '新北市', '花蓮縣', '新竹市', '新竹縣', '基隆市', '連江縣', '嘉義縣', '嘉義市', '屏東縣', '澎湖縣', '臺東縣', '臺中市']\n",
    "presidential = pd.DataFrame()\n",
    "for county in counties:\n",
    "    file_name = \"總統-A05-4-候選人得票數一覽表-各投開票所({}).xls\".format(county)\n",
    "    file_url = quote_plus(file_name)\n",
    "    spreadsheet_url = \"https://taiwan-election-data.s3-ap-northeast-1.amazonaws.com/presidential_2020/{}\".format(file_url)\n",
    "    # skip those combined cells\n",
    "    df = pd.read_excel(spreadsheet_url, skiprows=[0, 1, 3, 4], thousands=',')\n",
    "    tidy_df = tidy_dataframe(df)\n",
    "    # appending dataframe of each city/county\n",
    "    tidy_df['county'] = county\n",
    "    presidential = presidential.append(tidy_df)\n",
    "    print(\"Tidying {}\".format(file_name))\n",
    "presidential = presidential.reset_index(drop=True) # reset index for the appended dataframe"
   ]
  },
  {
   "cell_type": "code",
   "execution_count": 19,
   "metadata": {
    "slideshow": {
     "slide_type": "subslide"
    }
   },
   "outputs": [
    {
     "data": {
      "text/html": [
       "<div>\n",
       "<style scoped>\n",
       "    .dataframe tbody tr th:only-of-type {\n",
       "        vertical-align: middle;\n",
       "    }\n",
       "\n",
       "    .dataframe tbody tr th {\n",
       "        vertical-align: top;\n",
       "    }\n",
       "\n",
       "    .dataframe thead th {\n",
       "        text-align: right;\n",
       "    }\n",
       "</style>\n",
       "<table border=\"1\" class=\"dataframe\">\n",
       "  <thead>\n",
       "    <tr style=\"text-align: right;\">\n",
       "      <th></th>\n",
       "      <th>town</th>\n",
       "      <th>village</th>\n",
       "      <th>office</th>\n",
       "      <th>candidate_info</th>\n",
       "      <th>votes</th>\n",
       "      <th>county</th>\n",
       "    </tr>\n",
       "  </thead>\n",
       "  <tbody>\n",
       "    <tr>\n",
       "      <th>0</th>\n",
       "      <td>宜蘭市</td>\n",
       "      <td>民族里</td>\n",
       "      <td>1.0</td>\n",
       "      <td>(1)\\n宋楚瑜\\n余湘</td>\n",
       "      <td>37</td>\n",
       "      <td>宜蘭縣</td>\n",
       "    </tr>\n",
       "    <tr>\n",
       "      <th>1</th>\n",
       "      <td>宜蘭市</td>\n",
       "      <td>民族里</td>\n",
       "      <td>2.0</td>\n",
       "      <td>(1)\\n宋楚瑜\\n余湘</td>\n",
       "      <td>31</td>\n",
       "      <td>宜蘭縣</td>\n",
       "    </tr>\n",
       "    <tr>\n",
       "      <th>2</th>\n",
       "      <td>宜蘭市</td>\n",
       "      <td>建軍里</td>\n",
       "      <td>3.0</td>\n",
       "      <td>(1)\\n宋楚瑜\\n余湘</td>\n",
       "      <td>19</td>\n",
       "      <td>宜蘭縣</td>\n",
       "    </tr>\n",
       "    <tr>\n",
       "      <th>3</th>\n",
       "      <td>宜蘭市</td>\n",
       "      <td>建軍里</td>\n",
       "      <td>4.0</td>\n",
       "      <td>(1)\\n宋楚瑜\\n余湘</td>\n",
       "      <td>29</td>\n",
       "      <td>宜蘭縣</td>\n",
       "    </tr>\n",
       "    <tr>\n",
       "      <th>4</th>\n",
       "      <td>宜蘭市</td>\n",
       "      <td>泰山里</td>\n",
       "      <td>5.0</td>\n",
       "      <td>(1)\\n宋楚瑜\\n余湘</td>\n",
       "      <td>25</td>\n",
       "      <td>宜蘭縣</td>\n",
       "    </tr>\n",
       "  </tbody>\n",
       "</table>\n",
       "</div>"
      ],
      "text/plain": [
       "  town village  office candidate_info  votes county\n",
       "0  宜蘭市     民族里     1.0   (1)\\n宋楚瑜\\n余湘     37    宜蘭縣\n",
       "1  宜蘭市     民族里     2.0   (1)\\n宋楚瑜\\n余湘     31    宜蘭縣\n",
       "2  宜蘭市     建軍里     3.0   (1)\\n宋楚瑜\\n余湘     19    宜蘭縣\n",
       "3  宜蘭市     建軍里     4.0   (1)\\n宋楚瑜\\n余湘     29    宜蘭縣\n",
       "4  宜蘭市     泰山里     5.0   (1)\\n宋楚瑜\\n余湘     25    宜蘭縣"
      ]
     },
     "execution_count": 19,
     "metadata": {},
     "output_type": "execute_result"
    }
   ],
   "source": [
    "presidential.head()"
   ]
  },
  {
   "cell_type": "code",
   "execution_count": 20,
   "metadata": {
    "slideshow": {
     "slide_type": "subslide"
    }
   },
   "outputs": [
    {
     "data": {
      "text/html": [
       "<div>\n",
       "<style scoped>\n",
       "    .dataframe tbody tr th:only-of-type {\n",
       "        vertical-align: middle;\n",
       "    }\n",
       "\n",
       "    .dataframe tbody tr th {\n",
       "        vertical-align: top;\n",
       "    }\n",
       "\n",
       "    .dataframe thead th {\n",
       "        text-align: right;\n",
       "    }\n",
       "</style>\n",
       "<table border=\"1\" class=\"dataframe\">\n",
       "  <thead>\n",
       "    <tr style=\"text-align: right;\">\n",
       "      <th></th>\n",
       "      <th>town</th>\n",
       "      <th>village</th>\n",
       "      <th>office</th>\n",
       "      <th>candidate_info</th>\n",
       "      <th>votes</th>\n",
       "      <th>county</th>\n",
       "    </tr>\n",
       "  </thead>\n",
       "  <tbody>\n",
       "    <tr>\n",
       "      <th>51673</th>\n",
       "      <td>和平區</td>\n",
       "      <td>梨山里</td>\n",
       "      <td>1845.0</td>\n",
       "      <td>(3)\\n蔡英文\\n賴清德</td>\n",
       "      <td>132</td>\n",
       "      <td>臺中市</td>\n",
       "    </tr>\n",
       "    <tr>\n",
       "      <th>51674</th>\n",
       "      <td>和平區</td>\n",
       "      <td>梨山里</td>\n",
       "      <td>1846.0</td>\n",
       "      <td>(3)\\n蔡英文\\n賴清德</td>\n",
       "      <td>107</td>\n",
       "      <td>臺中市</td>\n",
       "    </tr>\n",
       "    <tr>\n",
       "      <th>51675</th>\n",
       "      <td>和平區</td>\n",
       "      <td>梨山里</td>\n",
       "      <td>1847.0</td>\n",
       "      <td>(3)\\n蔡英文\\n賴清德</td>\n",
       "      <td>40</td>\n",
       "      <td>臺中市</td>\n",
       "    </tr>\n",
       "    <tr>\n",
       "      <th>51676</th>\n",
       "      <td>和平區</td>\n",
       "      <td>平等里</td>\n",
       "      <td>1848.0</td>\n",
       "      <td>(3)\\n蔡英文\\n賴清德</td>\n",
       "      <td>24</td>\n",
       "      <td>臺中市</td>\n",
       "    </tr>\n",
       "    <tr>\n",
       "      <th>51677</th>\n",
       "      <td>和平區</td>\n",
       "      <td>平等里</td>\n",
       "      <td>1849.0</td>\n",
       "      <td>(3)\\n蔡英文\\n賴清德</td>\n",
       "      <td>102</td>\n",
       "      <td>臺中市</td>\n",
       "    </tr>\n",
       "  </tbody>\n",
       "</table>\n",
       "</div>"
      ],
      "text/plain": [
       "      town village  office candidate_info  votes county\n",
       "51673  和平區     梨山里  1845.0  (3)\\n蔡英文\\n賴清德    132    臺中市\n",
       "51674  和平區     梨山里  1846.0  (3)\\n蔡英文\\n賴清德    107    臺中市\n",
       "51675  和平區     梨山里  1847.0  (3)\\n蔡英文\\n賴清德     40    臺中市\n",
       "51676  和平區     平等里  1848.0  (3)\\n蔡英文\\n賴清德     24    臺中市\n",
       "51677  和平區     平等里  1849.0  (3)\\n蔡英文\\n賴清德    102    臺中市"
      ]
     },
     "execution_count": 20,
     "metadata": {},
     "output_type": "execute_result"
    }
   ],
   "source": [
    "presidential.tail()"
   ]
  },
  {
   "cell_type": "markdown",
   "metadata": {
    "slideshow": {
     "slide_type": "subslide"
    }
   },
   "source": [
    "## Define a function `adjust_presidential` to make minor adjustments on `presidential` after appending"
   ]
  },
  {
   "cell_type": "code",
   "execution_count": 21,
   "metadata": {},
   "outputs": [],
   "source": [
    "def adjust_presidential(df):\n",
    "    # split candidate information into 2 columns\n",
    "    candidate_info_df = df['candidate_info'].str.split(\"\\n\", expand=True)\n",
    "    numbers = candidate_info_df[0].str.replace(\"\\(|\\)\", \"\")\n",
    "    candidates = candidate_info_df[1].str.cat(candidate_info_df[2], sep=\"/\")\n",
    "    # re-arrange columns\n",
    "    df = df.drop(labels='candidate_info', axis=1)\n",
    "    df['number'] = numbers\n",
    "    df['candidate'] = candidates\n",
    "    df['office'] = df['office'].astype(int)\n",
    "    df = df[['county', 'town', 'village', 'office', 'number', 'candidate', 'votes']]\n",
    "    return df"
   ]
  },
  {
   "cell_type": "markdown",
   "metadata": {
    "slideshow": {
     "slide_type": "subslide"
    }
   },
   "source": [
    "## Applying `adjust_presidential` on `presidential`"
   ]
  },
  {
   "cell_type": "code",
   "execution_count": 22,
   "metadata": {
    "slideshow": {
     "slide_type": "-"
    }
   },
   "outputs": [],
   "source": [
    "presidential = adjust_presidential(presidential)"
   ]
  },
  {
   "cell_type": "code",
   "execution_count": 23,
   "metadata": {
    "slideshow": {
     "slide_type": "subslide"
    }
   },
   "outputs": [
    {
     "data": {
      "text/html": [
       "<div>\n",
       "<style scoped>\n",
       "    .dataframe tbody tr th:only-of-type {\n",
       "        vertical-align: middle;\n",
       "    }\n",
       "\n",
       "    .dataframe tbody tr th {\n",
       "        vertical-align: top;\n",
       "    }\n",
       "\n",
       "    .dataframe thead th {\n",
       "        text-align: right;\n",
       "    }\n",
       "</style>\n",
       "<table border=\"1\" class=\"dataframe\">\n",
       "  <thead>\n",
       "    <tr style=\"text-align: right;\">\n",
       "      <th></th>\n",
       "      <th>county</th>\n",
       "      <th>town</th>\n",
       "      <th>village</th>\n",
       "      <th>office</th>\n",
       "      <th>number</th>\n",
       "      <th>candidate</th>\n",
       "      <th>votes</th>\n",
       "    </tr>\n",
       "  </thead>\n",
       "  <tbody>\n",
       "    <tr>\n",
       "      <th>0</th>\n",
       "      <td>宜蘭縣</td>\n",
       "      <td>宜蘭市</td>\n",
       "      <td>民族里</td>\n",
       "      <td>1</td>\n",
       "      <td>1</td>\n",
       "      <td>宋楚瑜/余湘</td>\n",
       "      <td>37</td>\n",
       "    </tr>\n",
       "    <tr>\n",
       "      <th>1</th>\n",
       "      <td>宜蘭縣</td>\n",
       "      <td>宜蘭市</td>\n",
       "      <td>民族里</td>\n",
       "      <td>2</td>\n",
       "      <td>1</td>\n",
       "      <td>宋楚瑜/余湘</td>\n",
       "      <td>31</td>\n",
       "    </tr>\n",
       "    <tr>\n",
       "      <th>2</th>\n",
       "      <td>宜蘭縣</td>\n",
       "      <td>宜蘭市</td>\n",
       "      <td>建軍里</td>\n",
       "      <td>3</td>\n",
       "      <td>1</td>\n",
       "      <td>宋楚瑜/余湘</td>\n",
       "      <td>19</td>\n",
       "    </tr>\n",
       "    <tr>\n",
       "      <th>3</th>\n",
       "      <td>宜蘭縣</td>\n",
       "      <td>宜蘭市</td>\n",
       "      <td>建軍里</td>\n",
       "      <td>4</td>\n",
       "      <td>1</td>\n",
       "      <td>宋楚瑜/余湘</td>\n",
       "      <td>29</td>\n",
       "    </tr>\n",
       "    <tr>\n",
       "      <th>4</th>\n",
       "      <td>宜蘭縣</td>\n",
       "      <td>宜蘭市</td>\n",
       "      <td>泰山里</td>\n",
       "      <td>5</td>\n",
       "      <td>1</td>\n",
       "      <td>宋楚瑜/余湘</td>\n",
       "      <td>25</td>\n",
       "    </tr>\n",
       "  </tbody>\n",
       "</table>\n",
       "</div>"
      ],
      "text/plain": [
       "  county town village  office number candidate  votes\n",
       "0    宜蘭縣  宜蘭市     民族里       1      1    宋楚瑜/余湘     37\n",
       "1    宜蘭縣  宜蘭市     民族里       2      1    宋楚瑜/余湘     31\n",
       "2    宜蘭縣  宜蘭市     建軍里       3      1    宋楚瑜/余湘     19\n",
       "3    宜蘭縣  宜蘭市     建軍里       4      1    宋楚瑜/余湘     29\n",
       "4    宜蘭縣  宜蘭市     泰山里       5      1    宋楚瑜/余湘     25"
      ]
     },
     "execution_count": 23,
     "metadata": {},
     "output_type": "execute_result"
    }
   ],
   "source": [
    "presidential.head()"
   ]
  },
  {
   "cell_type": "code",
   "execution_count": 24,
   "metadata": {
    "slideshow": {
     "slide_type": "subslide"
    }
   },
   "outputs": [
    {
     "data": {
      "text/html": [
       "<div>\n",
       "<style scoped>\n",
       "    .dataframe tbody tr th:only-of-type {\n",
       "        vertical-align: middle;\n",
       "    }\n",
       "\n",
       "    .dataframe tbody tr th {\n",
       "        vertical-align: top;\n",
       "    }\n",
       "\n",
       "    .dataframe thead th {\n",
       "        text-align: right;\n",
       "    }\n",
       "</style>\n",
       "<table border=\"1\" class=\"dataframe\">\n",
       "  <thead>\n",
       "    <tr style=\"text-align: right;\">\n",
       "      <th></th>\n",
       "      <th>county</th>\n",
       "      <th>town</th>\n",
       "      <th>village</th>\n",
       "      <th>office</th>\n",
       "      <th>number</th>\n",
       "      <th>candidate</th>\n",
       "      <th>votes</th>\n",
       "    </tr>\n",
       "  </thead>\n",
       "  <tbody>\n",
       "    <tr>\n",
       "      <th>51673</th>\n",
       "      <td>臺中市</td>\n",
       "      <td>和平區</td>\n",
       "      <td>梨山里</td>\n",
       "      <td>1845</td>\n",
       "      <td>3</td>\n",
       "      <td>蔡英文/賴清德</td>\n",
       "      <td>132</td>\n",
       "    </tr>\n",
       "    <tr>\n",
       "      <th>51674</th>\n",
       "      <td>臺中市</td>\n",
       "      <td>和平區</td>\n",
       "      <td>梨山里</td>\n",
       "      <td>1846</td>\n",
       "      <td>3</td>\n",
       "      <td>蔡英文/賴清德</td>\n",
       "      <td>107</td>\n",
       "    </tr>\n",
       "    <tr>\n",
       "      <th>51675</th>\n",
       "      <td>臺中市</td>\n",
       "      <td>和平區</td>\n",
       "      <td>梨山里</td>\n",
       "      <td>1847</td>\n",
       "      <td>3</td>\n",
       "      <td>蔡英文/賴清德</td>\n",
       "      <td>40</td>\n",
       "    </tr>\n",
       "    <tr>\n",
       "      <th>51676</th>\n",
       "      <td>臺中市</td>\n",
       "      <td>和平區</td>\n",
       "      <td>平等里</td>\n",
       "      <td>1848</td>\n",
       "      <td>3</td>\n",
       "      <td>蔡英文/賴清德</td>\n",
       "      <td>24</td>\n",
       "    </tr>\n",
       "    <tr>\n",
       "      <th>51677</th>\n",
       "      <td>臺中市</td>\n",
       "      <td>和平區</td>\n",
       "      <td>平等里</td>\n",
       "      <td>1849</td>\n",
       "      <td>3</td>\n",
       "      <td>蔡英文/賴清德</td>\n",
       "      <td>102</td>\n",
       "    </tr>\n",
       "  </tbody>\n",
       "</table>\n",
       "</div>"
      ],
      "text/plain": [
       "      county town village  office number candidate  votes\n",
       "51673    臺中市  和平區     梨山里    1845      3   蔡英文/賴清德    132\n",
       "51674    臺中市  和平區     梨山里    1846      3   蔡英文/賴清德    107\n",
       "51675    臺中市  和平區     梨山里    1847      3   蔡英文/賴清德     40\n",
       "51676    臺中市  和平區     平等里    1848      3   蔡英文/賴清德     24\n",
       "51677    臺中市  和平區     平等里    1849      3   蔡英文/賴清德    102"
      ]
     },
     "execution_count": 24,
     "metadata": {},
     "output_type": "execute_result"
    }
   ],
   "source": [
    "presidential.tail()"
   ]
  },
  {
   "cell_type": "markdown",
   "metadata": {
    "slideshow": {
     "slide_type": "subslide"
    }
   },
   "source": [
    "## Done wrangling the presidential data!\n",
    "\n",
    "![](https://media.giphy.com/media/1sjwSoZLcENCE/giphy.gif)\n",
    "\n",
    "Source: <https://giphy.com/>"
   ]
  },
  {
   "cell_type": "markdown",
   "metadata": {
    "slideshow": {
     "slide_type": "subslide"
    }
   },
   "source": [
    "## Applying `tidy_dataframe` on legislative spreadsheets\n",
    "\n",
    "Types of legislator:\n",
    "- regional\n",
    "- plains/mountain indigenous\n",
    "- at large"
   ]
  },
  {
   "cell_type": "markdown",
   "metadata": {
    "slideshow": {
     "slide_type": "subslide"
    }
   },
   "source": [
    "## Regional, plains indigenous, and mountain indigenous are voted on candidates, while at large are voted on parties"
   ]
  },
  {
   "cell_type": "markdown",
   "metadata": {
    "slideshow": {
     "slide_type": "subslide"
    }
   },
   "source": [
    "## Applying `tidy_dataframe` on regional spreadsheets"
   ]
  },
  {
   "cell_type": "code",
   "execution_count": 25,
   "metadata": {},
   "outputs": [
    {
     "name": "stdout",
     "output_type": "stream",
     "text": [
      "Tidying 宜蘭縣選舉區 of 區域立委-A05-2-得票數一覽表(宜蘭縣).xls\n",
      "Tidying 彰化縣第1選舉區 of 區域立委-A05-2-得票數一覽表(彰化縣).xls\n",
      "Tidying 彰化縣第2選舉區 of 區域立委-A05-2-得票數一覽表(彰化縣).xls\n",
      "Tidying 彰化縣第3選舉區 of 區域立委-A05-2-得票數一覽表(彰化縣).xls\n",
      "Tidying 彰化縣第4選舉區 of 區域立委-A05-2-得票數一覽表(彰化縣).xls\n",
      "Tidying 金門縣選舉區 of 區域立委-A05-2-得票數一覽表(金門縣).xls\n",
      "Tidying 桃園市第1選舉區 of 區域立委-A05-2-得票數一覽表(桃園市).xls\n",
      "Tidying 桃園市第2選舉區 of 區域立委-A05-2-得票數一覽表(桃園市).xls\n",
      "Tidying 桃園市第3選舉區 of 區域立委-A05-2-得票數一覽表(桃園市).xls\n",
      "Tidying 桃園市第4選舉區 of 區域立委-A05-2-得票數一覽表(桃園市).xls\n",
      "Tidying 桃園市第5選舉區 of 區域立委-A05-2-得票數一覽表(桃園市).xls\n",
      "Tidying 桃園市第6選舉區 of 區域立委-A05-2-得票數一覽表(桃園市).xls\n",
      "Tidying 苗栗縣第1選舉區 of 區域立委-A05-2-得票數一覽表(苗栗縣).xls\n",
      "Tidying 苗栗縣第2選舉區 of 區域立委-A05-2-得票數一覽表(苗栗縣).xls\n",
      "Tidying 臺南市第1選舉區 of 區域立委-A05-2-得票數一覽表(臺南市).xls\n",
      "Tidying 臺南市第2選舉區 of 區域立委-A05-2-得票數一覽表(臺南市).xls\n",
      "Tidying 臺南市第3選舉區 of 區域立委-A05-2-得票數一覽表(臺南市).xls\n",
      "Tidying 臺南市第4選舉區 of 區域立委-A05-2-得票數一覽表(臺南市).xls\n",
      "Tidying 臺南市第5選舉區 of 區域立委-A05-2-得票數一覽表(臺南市).xls\n",
      "Tidying 臺南市第6選舉區 of 區域立委-A05-2-得票數一覽表(臺南市).xls\n",
      "Tidying 雲林縣第1選舉區 of 區域立委-A05-2-得票數一覽表(雲林縣).xls\n",
      "Tidying 雲林縣第2選舉區 of 區域立委-A05-2-得票數一覽表(雲林縣).xls\n",
      "Tidying 南投縣第1選舉區 of 區域立委-A05-2-得票數一覽表(南投縣).xls\n",
      "Tidying 南投縣第2選舉區 of 區域立委-A05-2-得票數一覽表(南投縣).xls\n",
      "Tidying 高雄市第1選舉區 of 區域立委-A05-2-得票數一覽表(高雄市).xls\n",
      "Tidying 高雄市第2選舉區 of 區域立委-A05-2-得票數一覽表(高雄市).xls\n",
      "Tidying 高雄市第3選舉區 of 區域立委-A05-2-得票數一覽表(高雄市).xls\n",
      "Tidying 高雄市第4選舉區 of 區域立委-A05-2-得票數一覽表(高雄市).xls\n",
      "Tidying 高雄市第5選舉區 of 區域立委-A05-2-得票數一覽表(高雄市).xls\n",
      "Tidying 高雄市第6選舉區 of 區域立委-A05-2-得票數一覽表(高雄市).xls\n",
      "Tidying 高雄市第7選舉區 of 區域立委-A05-2-得票數一覽表(高雄市).xls\n",
      "Tidying 高雄市第8選舉區 of 區域立委-A05-2-得票數一覽表(高雄市).xls\n",
      "Tidying 臺北市第1選舉區 of 區域立委-A05-2-得票數一覽表(臺北市).xls\n",
      "Tidying 臺北市第2選舉區 of 區域立委-A05-2-得票數一覽表(臺北市).xls\n",
      "Tidying 臺北市第3選舉區 of 區域立委-A05-2-得票數一覽表(臺北市).xls\n",
      "Tidying 臺北市第4選舉區 of 區域立委-A05-2-得票數一覽表(臺北市).xls\n",
      "Tidying 臺北市第5選舉區 of 區域立委-A05-2-得票數一覽表(臺北市).xls\n",
      "Tidying 臺北市第6選舉區 of 區域立委-A05-2-得票數一覽表(臺北市).xls\n",
      "Tidying 臺北市第7選舉區 of 區域立委-A05-2-得票數一覽表(臺北市).xls\n",
      "Tidying 臺北市第8選舉區 of 區域立委-A05-2-得票數一覽表(臺北市).xls\n",
      "Tidying 新北市第1選舉區 of 區域立委-A05-2-得票數一覽表(新北市).xls\n",
      "Tidying 新北市第2選舉區 of 區域立委-A05-2-得票數一覽表(新北市).xls\n",
      "Tidying 新北市第3選舉區 of 區域立委-A05-2-得票數一覽表(新北市).xls\n",
      "Tidying 新北市第4選舉區 of 區域立委-A05-2-得票數一覽表(新北市).xls\n",
      "Tidying 新北市第5選舉區 of 區域立委-A05-2-得票數一覽表(新北市).xls\n",
      "Tidying 新北市第6選舉區 of 區域立委-A05-2-得票數一覽表(新北市).xls\n",
      "Tidying 新北市第7選舉區 of 區域立委-A05-2-得票數一覽表(新北市).xls\n",
      "Tidying 新北市第8選舉區 of 區域立委-A05-2-得票數一覽表(新北市).xls\n",
      "Tidying 新北市第9選舉區 of 區域立委-A05-2-得票數一覽表(新北市).xls\n",
      "Tidying 新北市第10選舉區 of 區域立委-A05-2-得票數一覽表(新北市).xls\n",
      "Tidying 新北市第11選舉區 of 區域立委-A05-2-得票數一覽表(新北市).xls\n",
      "Tidying 新北市第12選舉區 of 區域立委-A05-2-得票數一覽表(新北市).xls\n",
      "Tidying 花蓮縣選舉區 of 區域立委-A05-2-得票數一覽表(花蓮縣).xls\n",
      "Tidying 新竹市選舉區 of 區域立委-A05-2-得票數一覽表(新竹市).xls\n",
      "Tidying 新竹縣第1選舉區 of 區域立委-A05-2-得票數一覽表(新竹縣).xls\n",
      "Tidying 新竹縣第2選舉區 of 區域立委-A05-2-得票數一覽表(新竹縣).xls\n",
      "Tidying 基隆市選舉區 of 區域立委-A05-2-得票數一覽表(基隆市).xls\n",
      "Tidying 連江縣選舉區 of 區域立委-A05-2-得票數一覽表(連江縣).xls\n",
      "Tidying 嘉義縣第1選舉區 of 區域立委-A05-2-得票數一覽表(嘉義縣).xls\n",
      "Tidying 嘉義縣第2選舉區 of 區域立委-A05-2-得票數一覽表(嘉義縣).xls\n",
      "Tidying 嘉義市選舉區 of 區域立委-A05-2-得票數一覽表(嘉義市).xls\n",
      "Tidying 屏東縣第1選舉區 of 區域立委-A05-2-得票數一覽表(屏東縣).xls\n",
      "Tidying 屏東縣第2選舉區 of 區域立委-A05-2-得票數一覽表(屏東縣).xls\n",
      "Tidying 澎湖縣選舉區 of 區域立委-A05-2-得票數一覽表(澎湖縣).xls\n",
      "Tidying 臺東縣選舉區 of 區域立委-A05-2-得票數一覽表(臺東縣).xls\n",
      "Tidying 臺中市第1選舉區 of 區域立委-A05-2-得票數一覽表(臺中市).xls\n",
      "Tidying 臺中市第2選舉區 of 區域立委-A05-2-得票數一覽表(臺中市).xls\n",
      "Tidying 臺中市第3選舉區 of 區域立委-A05-2-得票數一覽表(臺中市).xls\n",
      "Tidying 臺中市第4選舉區 of 區域立委-A05-2-得票數一覽表(臺中市).xls\n",
      "Tidying 臺中市第5選舉區 of 區域立委-A05-2-得票數一覽表(臺中市).xls\n",
      "Tidying 臺中市第6選舉區 of 區域立委-A05-2-得票數一覽表(臺中市).xls\n",
      "Tidying 臺中市第7選舉區 of 區域立委-A05-2-得票數一覽表(臺中市).xls\n",
      "Tidying 臺中市第8選舉區 of 區域立委-A05-2-得票數一覽表(臺中市).xls\n"
     ]
    }
   ],
   "source": [
    "regional = pd.DataFrame()\n",
    "for county in counties:\n",
    "    file_name = \"區域立委-A05-2-得票數一覽表({}).xls\".format(county)\n",
    "    file_url = quote_plus(file_name)\n",
    "    spreadsheet_url = \"https://taiwan-election-data.s3-ap-northeast-1.amazonaws.com/legislative_2020/{}\".format(file_url)\n",
    "    xl = pd.ExcelFile(spreadsheet_url)\n",
    "    for sheet in xl.sheet_names:\n",
    "        # skip those combined cells\n",
    "        df = pd.read_excel(spreadsheet_url, skiprows=[0, 1, 3, 4], thousands=',', sheet_name=sheet)\n",
    "        tidy_df = tidy_dataframe(df)\n",
    "        # appending dataframe of each city/county\n",
    "        tidy_df['county'] = county\n",
    "        tidy_df['electoral_district'] = sheet\n",
    "        regional = regional.append(tidy_df)\n",
    "        print(\"Tidying {} of {}\".format(sheet, file_name))\n",
    "regional = regional.reset_index(drop=True) # reset index for the appended dataframe"
   ]
  },
  {
   "cell_type": "code",
   "execution_count": 26,
   "metadata": {
    "slideshow": {
     "slide_type": "subslide"
    }
   },
   "outputs": [
    {
     "data": {
      "text/html": [
       "<div>\n",
       "<style scoped>\n",
       "    .dataframe tbody tr th:only-of-type {\n",
       "        vertical-align: middle;\n",
       "    }\n",
       "\n",
       "    .dataframe tbody tr th {\n",
       "        vertical-align: top;\n",
       "    }\n",
       "\n",
       "    .dataframe thead th {\n",
       "        text-align: right;\n",
       "    }\n",
       "</style>\n",
       "<table border=\"1\" class=\"dataframe\">\n",
       "  <thead>\n",
       "    <tr style=\"text-align: right;\">\n",
       "      <th></th>\n",
       "      <th>town</th>\n",
       "      <th>village</th>\n",
       "      <th>office</th>\n",
       "      <th>candidate_info</th>\n",
       "      <th>votes</th>\n",
       "      <th>county</th>\n",
       "      <th>electoral_district</th>\n",
       "    </tr>\n",
       "  </thead>\n",
       "  <tbody>\n",
       "    <tr>\n",
       "      <th>0</th>\n",
       "      <td>宜蘭市</td>\n",
       "      <td>民族里</td>\n",
       "      <td>1.0</td>\n",
       "      <td>(1)\\n黃定和\\n無</td>\n",
       "      <td>128</td>\n",
       "      <td>宜蘭縣</td>\n",
       "      <td>宜蘭縣選舉區</td>\n",
       "    </tr>\n",
       "    <tr>\n",
       "      <th>1</th>\n",
       "      <td>宜蘭市</td>\n",
       "      <td>民族里</td>\n",
       "      <td>2.0</td>\n",
       "      <td>(1)\\n黃定和\\n無</td>\n",
       "      <td>138</td>\n",
       "      <td>宜蘭縣</td>\n",
       "      <td>宜蘭縣選舉區</td>\n",
       "    </tr>\n",
       "    <tr>\n",
       "      <th>2</th>\n",
       "      <td>宜蘭市</td>\n",
       "      <td>建軍里</td>\n",
       "      <td>3.0</td>\n",
       "      <td>(1)\\n黃定和\\n無</td>\n",
       "      <td>122</td>\n",
       "      <td>宜蘭縣</td>\n",
       "      <td>宜蘭縣選舉區</td>\n",
       "    </tr>\n",
       "    <tr>\n",
       "      <th>3</th>\n",
       "      <td>宜蘭市</td>\n",
       "      <td>建軍里</td>\n",
       "      <td>4.0</td>\n",
       "      <td>(1)\\n黃定和\\n無</td>\n",
       "      <td>104</td>\n",
       "      <td>宜蘭縣</td>\n",
       "      <td>宜蘭縣選舉區</td>\n",
       "    </tr>\n",
       "    <tr>\n",
       "      <th>4</th>\n",
       "      <td>宜蘭市</td>\n",
       "      <td>泰山里</td>\n",
       "      <td>5.0</td>\n",
       "      <td>(1)\\n黃定和\\n無</td>\n",
       "      <td>129</td>\n",
       "      <td>宜蘭縣</td>\n",
       "      <td>宜蘭縣選舉區</td>\n",
       "    </tr>\n",
       "  </tbody>\n",
       "</table>\n",
       "</div>"
      ],
      "text/plain": [
       "  town village  office candidate_info  votes county electoral_district\n",
       "0  宜蘭市     民族里     1.0    (1)\\n黃定和\\n無    128    宜蘭縣             宜蘭縣選舉區\n",
       "1  宜蘭市     民族里     2.0    (1)\\n黃定和\\n無    138    宜蘭縣             宜蘭縣選舉區\n",
       "2  宜蘭市     建軍里     3.0    (1)\\n黃定和\\n無    122    宜蘭縣             宜蘭縣選舉區\n",
       "3  宜蘭市     建軍里     4.0    (1)\\n黃定和\\n無    104    宜蘭縣             宜蘭縣選舉區\n",
       "4  宜蘭市     泰山里     5.0    (1)\\n黃定和\\n無    129    宜蘭縣             宜蘭縣選舉區"
      ]
     },
     "execution_count": 26,
     "metadata": {},
     "output_type": "execute_result"
    }
   ],
   "source": [
    "regional.head()"
   ]
  },
  {
   "cell_type": "markdown",
   "metadata": {
    "slideshow": {
     "slide_type": "subslide"
    }
   },
   "source": [
    "## Define a function `adjust_legislative` to make minor adjustments on `regional` after appending"
   ]
  },
  {
   "cell_type": "code",
   "execution_count": 27,
   "metadata": {
    "slideshow": {
     "slide_type": "-"
    }
   },
   "outputs": [],
   "source": [
    "def adjust_legislative(df):\n",
    "    # split candidate information into 2 columns\n",
    "    candidate_info_df = df['candidate_info'].str.split(\"\\n\", expand=True)\n",
    "    numbers = candidate_info_df[0].str.replace(\"\\(|\\)\", \"\")\n",
    "    candidates = candidate_info_df[1]\n",
    "    parties = candidate_info_df[2]\n",
    "    # re-arrange columns\n",
    "    df = df.drop(labels='candidate_info', axis=1)\n",
    "    df['number'] = numbers\n",
    "    df['candidate'] = candidates\n",
    "    df['party'] = parties\n",
    "    df['office'] = df['office'].astype(int)\n",
    "    return df"
   ]
  },
  {
   "cell_type": "markdown",
   "metadata": {
    "slideshow": {
     "slide_type": "subslide"
    }
   },
   "source": [
    "## Applying `adjust_regional` on `regional`"
   ]
  },
  {
   "cell_type": "code",
   "execution_count": 28,
   "metadata": {},
   "outputs": [],
   "source": [
    "regional = adjust_legislative(regional)\n",
    "regional = regional[['county', 'electoral_district', 'town', 'village', 'office', 'number', 'party', 'candidate', 'votes']]"
   ]
  },
  {
   "cell_type": "code",
   "execution_count": 29,
   "metadata": {
    "slideshow": {
     "slide_type": "subslide"
    }
   },
   "outputs": [
    {
     "data": {
      "text/html": [
       "<div>\n",
       "<style scoped>\n",
       "    .dataframe tbody tr th:only-of-type {\n",
       "        vertical-align: middle;\n",
       "    }\n",
       "\n",
       "    .dataframe tbody tr th {\n",
       "        vertical-align: top;\n",
       "    }\n",
       "\n",
       "    .dataframe thead th {\n",
       "        text-align: right;\n",
       "    }\n",
       "</style>\n",
       "<table border=\"1\" class=\"dataframe\">\n",
       "  <thead>\n",
       "    <tr style=\"text-align: right;\">\n",
       "      <th></th>\n",
       "      <th>county</th>\n",
       "      <th>electoral_district</th>\n",
       "      <th>town</th>\n",
       "      <th>village</th>\n",
       "      <th>office</th>\n",
       "      <th>number</th>\n",
       "      <th>party</th>\n",
       "      <th>candidate</th>\n",
       "      <th>votes</th>\n",
       "    </tr>\n",
       "  </thead>\n",
       "  <tbody>\n",
       "    <tr>\n",
       "      <th>0</th>\n",
       "      <td>宜蘭縣</td>\n",
       "      <td>宜蘭縣選舉區</td>\n",
       "      <td>宜蘭市</td>\n",
       "      <td>民族里</td>\n",
       "      <td>1</td>\n",
       "      <td>1</td>\n",
       "      <td>無</td>\n",
       "      <td>黃定和</td>\n",
       "      <td>128</td>\n",
       "    </tr>\n",
       "    <tr>\n",
       "      <th>1</th>\n",
       "      <td>宜蘭縣</td>\n",
       "      <td>宜蘭縣選舉區</td>\n",
       "      <td>宜蘭市</td>\n",
       "      <td>民族里</td>\n",
       "      <td>2</td>\n",
       "      <td>1</td>\n",
       "      <td>無</td>\n",
       "      <td>黃定和</td>\n",
       "      <td>138</td>\n",
       "    </tr>\n",
       "    <tr>\n",
       "      <th>2</th>\n",
       "      <td>宜蘭縣</td>\n",
       "      <td>宜蘭縣選舉區</td>\n",
       "      <td>宜蘭市</td>\n",
       "      <td>建軍里</td>\n",
       "      <td>3</td>\n",
       "      <td>1</td>\n",
       "      <td>無</td>\n",
       "      <td>黃定和</td>\n",
       "      <td>122</td>\n",
       "    </tr>\n",
       "    <tr>\n",
       "      <th>3</th>\n",
       "      <td>宜蘭縣</td>\n",
       "      <td>宜蘭縣選舉區</td>\n",
       "      <td>宜蘭市</td>\n",
       "      <td>建軍里</td>\n",
       "      <td>4</td>\n",
       "      <td>1</td>\n",
       "      <td>無</td>\n",
       "      <td>黃定和</td>\n",
       "      <td>104</td>\n",
       "    </tr>\n",
       "    <tr>\n",
       "      <th>4</th>\n",
       "      <td>宜蘭縣</td>\n",
       "      <td>宜蘭縣選舉區</td>\n",
       "      <td>宜蘭市</td>\n",
       "      <td>泰山里</td>\n",
       "      <td>5</td>\n",
       "      <td>1</td>\n",
       "      <td>無</td>\n",
       "      <td>黃定和</td>\n",
       "      <td>129</td>\n",
       "    </tr>\n",
       "  </tbody>\n",
       "</table>\n",
       "</div>"
      ],
      "text/plain": [
       "  county electoral_district town village  office number party candidate  votes\n",
       "0    宜蘭縣             宜蘭縣選舉區  宜蘭市     民族里       1      1     無       黃定和    128\n",
       "1    宜蘭縣             宜蘭縣選舉區  宜蘭市     民族里       2      1     無       黃定和    138\n",
       "2    宜蘭縣             宜蘭縣選舉區  宜蘭市     建軍里       3      1     無       黃定和    122\n",
       "3    宜蘭縣             宜蘭縣選舉區  宜蘭市     建軍里       4      1     無       黃定和    104\n",
       "4    宜蘭縣             宜蘭縣選舉區  宜蘭市     泰山里       5      1     無       黃定和    129"
      ]
     },
     "execution_count": 29,
     "metadata": {},
     "output_type": "execute_result"
    }
   ],
   "source": [
    "regional.head()"
   ]
  },
  {
   "cell_type": "markdown",
   "metadata": {
    "slideshow": {
     "slide_type": "subslide"
    }
   },
   "source": [
    "## Applying `tidy_dataframe` on plains indigenous and mountain indigenous spreadsheets"
   ]
  },
  {
   "cell_type": "code",
   "execution_count": 30,
   "metadata": {},
   "outputs": [
    {
     "name": "stdout",
     "output_type": "stream",
     "text": [
      "Tidying 山地立委-A05-4-得票數一覽表(宜蘭縣).xls\n",
      "Tidying 平地立委-A05-4-得票數一覽表(宜蘭縣).xls\n",
      "Tidying 山地立委-A05-4-得票數一覽表(彰化縣).xls\n",
      "Tidying 平地立委-A05-4-得票數一覽表(彰化縣).xls\n",
      "Tidying 山地立委-A05-4-得票數一覽表(金門縣).xls\n",
      "Tidying 平地立委-A05-4-得票數一覽表(金門縣).xls\n",
      "Tidying 山地立委-A05-4-得票數一覽表(桃園市).xls\n",
      "Tidying 平地立委-A05-4-得票數一覽表(桃園市).xls\n",
      "Tidying 山地立委-A05-4-得票數一覽表(苗栗縣).xls\n",
      "Tidying 平地立委-A05-4-得票數一覽表(苗栗縣).xls\n",
      "Tidying 山地立委-A05-4-得票數一覽表(臺南市).xls\n",
      "Tidying 平地立委-A05-4-得票數一覽表(臺南市).xls\n",
      "Tidying 山地立委-A05-4-得票數一覽表(雲林縣).xls\n",
      "Tidying 平地立委-A05-4-得票數一覽表(雲林縣).xls\n",
      "Tidying 山地立委-A05-4-得票數一覽表(南投縣).xls\n",
      "Tidying 平地立委-A05-4-得票數一覽表(南投縣).xls\n",
      "Tidying 山地立委-A05-4-得票數一覽表(高雄市).xls\n",
      "Tidying 平地立委-A05-4-得票數一覽表(高雄市).xls\n",
      "Tidying 山地立委-A05-4-得票數一覽表(臺北市).xls\n",
      "Tidying 平地立委-A05-4-得票數一覽表(臺北市).xls\n",
      "Tidying 山地立委-A05-4-得票數一覽表(新北市).xls\n",
      "Tidying 平地立委-A05-4-得票數一覽表(新北市).xls\n",
      "Tidying 山地立委-A05-4-得票數一覽表(花蓮縣).xls\n",
      "Tidying 平地立委-A05-4-得票數一覽表(花蓮縣).xls\n",
      "Tidying 山地立委-A05-4-得票數一覽表(新竹市).xls\n",
      "Tidying 平地立委-A05-4-得票數一覽表(新竹市).xls\n",
      "Tidying 山地立委-A05-4-得票數一覽表(新竹縣).xls\n",
      "Tidying 平地立委-A05-4-得票數一覽表(新竹縣).xls\n",
      "Tidying 山地立委-A05-4-得票數一覽表(基隆市).xls\n",
      "Tidying 平地立委-A05-4-得票數一覽表(基隆市).xls\n",
      "Tidying 山地立委-A05-4-得票數一覽表(連江縣).xls\n",
      "Tidying 平地立委-A05-4-得票數一覽表(連江縣).xls\n",
      "Tidying 山地立委-A05-4-得票數一覽表(嘉義縣).xls\n",
      "Tidying 平地立委-A05-4-得票數一覽表(嘉義縣).xls\n",
      "Tidying 山地立委-A05-4-得票數一覽表(嘉義市).xls\n",
      "Tidying 平地立委-A05-4-得票數一覽表(嘉義市).xls\n",
      "Tidying 山地立委-A05-4-得票數一覽表(屏東縣).xls\n",
      "Tidying 平地立委-A05-4-得票數一覽表(屏東縣).xls\n",
      "Tidying 山地立委-A05-4-得票數一覽表(澎湖縣).xls\n",
      "Tidying 平地立委-A05-4-得票數一覽表(澎湖縣).xls\n",
      "Tidying 山地立委-A05-4-得票數一覽表(臺東縣).xls\n",
      "Tidying 平地立委-A05-4-得票數一覽表(臺東縣).xls\n",
      "Tidying 山地立委-A05-4-得票數一覽表(臺中市).xls\n",
      "Tidying 平地立委-A05-4-得票數一覽表(臺中市).xls\n"
     ]
    }
   ],
   "source": [
    "indigenous = pd.DataFrame()\n",
    "indigenous_types = ['山地', '平地']\n",
    "for county in counties:\n",
    "    for indigenous_type in indigenous_types:\n",
    "        file_name = \"{}立委-A05-4-得票數一覽表({}).xls\".format(indigenous_type, county)\n",
    "        file_url = quote_plus(file_name)\n",
    "        spreadsheet_url = \"https://taiwan-election-data.s3-ap-northeast-1.amazonaws.com/legislative_2020/{}\".format(file_url)\n",
    "        # skip those combined cells\n",
    "        df = pd.read_excel(spreadsheet_url, skiprows=[0, 1, 3, 4], thousands=',')\n",
    "        tidy_df = tidy_dataframe(df)\n",
    "        # appending dataframe of each city/county\n",
    "        tidy_df['county'] = county\n",
    "        tidy_df['electoral_district'] = '{}原住民'.format(indigenous_type)\n",
    "        indigenous = indigenous.append(tidy_df)\n",
    "        print(\"Tidying {}\".format(file_name))\n",
    "indigenous = indigenous.reset_index(drop=True) # reset index for the appended dataframe"
   ]
  },
  {
   "cell_type": "code",
   "execution_count": 31,
   "metadata": {
    "slideshow": {
     "slide_type": "subslide"
    }
   },
   "outputs": [
    {
     "data": {
      "text/html": [
       "<div>\n",
       "<style scoped>\n",
       "    .dataframe tbody tr th:only-of-type {\n",
       "        vertical-align: middle;\n",
       "    }\n",
       "\n",
       "    .dataframe tbody tr th {\n",
       "        vertical-align: top;\n",
       "    }\n",
       "\n",
       "    .dataframe thead th {\n",
       "        text-align: right;\n",
       "    }\n",
       "</style>\n",
       "<table border=\"1\" class=\"dataframe\">\n",
       "  <thead>\n",
       "    <tr style=\"text-align: right;\">\n",
       "      <th></th>\n",
       "      <th>town</th>\n",
       "      <th>village</th>\n",
       "      <th>office</th>\n",
       "      <th>candidate_info</th>\n",
       "      <th>votes</th>\n",
       "      <th>county</th>\n",
       "      <th>electoral_district</th>\n",
       "    </tr>\n",
       "  </thead>\n",
       "  <tbody>\n",
       "    <tr>\n",
       "      <th>0</th>\n",
       "      <td>宜蘭市</td>\n",
       "      <td>民族里</td>\n",
       "      <td>1.0</td>\n",
       "      <td>(1)\\n伍麗華Saidhai．Tahovecahe\\n民主進步黨</td>\n",
       "      <td>0</td>\n",
       "      <td>宜蘭縣</td>\n",
       "      <td>山地原住民</td>\n",
       "    </tr>\n",
       "    <tr>\n",
       "      <th>1</th>\n",
       "      <td>宜蘭市</td>\n",
       "      <td>民族里</td>\n",
       "      <td>2.0</td>\n",
       "      <td>(1)\\n伍麗華Saidhai．Tahovecahe\\n民主進步黨</td>\n",
       "      <td>0</td>\n",
       "      <td>宜蘭縣</td>\n",
       "      <td>山地原住民</td>\n",
       "    </tr>\n",
       "    <tr>\n",
       "      <th>2</th>\n",
       "      <td>宜蘭市</td>\n",
       "      <td>建軍里</td>\n",
       "      <td>3.0</td>\n",
       "      <td>(1)\\n伍麗華Saidhai．Tahovecahe\\n民主進步黨</td>\n",
       "      <td>0</td>\n",
       "      <td>宜蘭縣</td>\n",
       "      <td>山地原住民</td>\n",
       "    </tr>\n",
       "    <tr>\n",
       "      <th>3</th>\n",
       "      <td>宜蘭市</td>\n",
       "      <td>建軍里</td>\n",
       "      <td>4.0</td>\n",
       "      <td>(1)\\n伍麗華Saidhai．Tahovecahe\\n民主進步黨</td>\n",
       "      <td>0</td>\n",
       "      <td>宜蘭縣</td>\n",
       "      <td>山地原住民</td>\n",
       "    </tr>\n",
       "    <tr>\n",
       "      <th>4</th>\n",
       "      <td>宜蘭市</td>\n",
       "      <td>泰山里</td>\n",
       "      <td>5.0</td>\n",
       "      <td>(1)\\n伍麗華Saidhai．Tahovecahe\\n民主進步黨</td>\n",
       "      <td>0</td>\n",
       "      <td>宜蘭縣</td>\n",
       "      <td>山地原住民</td>\n",
       "    </tr>\n",
       "  </tbody>\n",
       "</table>\n",
       "</div>"
      ],
      "text/plain": [
       "  town village  office                     candidate_info  votes county  \\\n",
       "0  宜蘭市     民族里     1.0  (1)\\n伍麗華Saidhai．Tahovecahe\\n民主進步黨      0    宜蘭縣   \n",
       "1  宜蘭市     民族里     2.0  (1)\\n伍麗華Saidhai．Tahovecahe\\n民主進步黨      0    宜蘭縣   \n",
       "2  宜蘭市     建軍里     3.0  (1)\\n伍麗華Saidhai．Tahovecahe\\n民主進步黨      0    宜蘭縣   \n",
       "3  宜蘭市     建軍里     4.0  (1)\\n伍麗華Saidhai．Tahovecahe\\n民主進步黨      0    宜蘭縣   \n",
       "4  宜蘭市     泰山里     5.0  (1)\\n伍麗華Saidhai．Tahovecahe\\n民主進步黨      0    宜蘭縣   \n",
       "\n",
       "  electoral_district  \n",
       "0              山地原住民  \n",
       "1              山地原住民  \n",
       "2              山地原住民  \n",
       "3              山地原住民  \n",
       "4              山地原住民  "
      ]
     },
     "execution_count": 31,
     "metadata": {},
     "output_type": "execute_result"
    }
   ],
   "source": [
    "indigenous.head()"
   ]
  },
  {
   "cell_type": "markdown",
   "metadata": {
    "slideshow": {
     "slide_type": "subslide"
    }
   },
   "source": [
    "## Applying `adjust_legislative` on `indigenous` to make minor adjustments after appending"
   ]
  },
  {
   "cell_type": "code",
   "execution_count": 32,
   "metadata": {},
   "outputs": [],
   "source": [
    "indigenous = adjust_legislative(indigenous)\n",
    "indigenous = indigenous[['county', 'electoral_district', 'town', 'village', 'office', 'number', 'party', 'candidate', 'votes']]"
   ]
  },
  {
   "cell_type": "code",
   "execution_count": 33,
   "metadata": {
    "slideshow": {
     "slide_type": "subslide"
    }
   },
   "outputs": [
    {
     "data": {
      "text/html": [
       "<div>\n",
       "<style scoped>\n",
       "    .dataframe tbody tr th:only-of-type {\n",
       "        vertical-align: middle;\n",
       "    }\n",
       "\n",
       "    .dataframe tbody tr th {\n",
       "        vertical-align: top;\n",
       "    }\n",
       "\n",
       "    .dataframe thead th {\n",
       "        text-align: right;\n",
       "    }\n",
       "</style>\n",
       "<table border=\"1\" class=\"dataframe\">\n",
       "  <thead>\n",
       "    <tr style=\"text-align: right;\">\n",
       "      <th></th>\n",
       "      <th>county</th>\n",
       "      <th>electoral_district</th>\n",
       "      <th>town</th>\n",
       "      <th>village</th>\n",
       "      <th>office</th>\n",
       "      <th>number</th>\n",
       "      <th>party</th>\n",
       "      <th>candidate</th>\n",
       "      <th>votes</th>\n",
       "    </tr>\n",
       "  </thead>\n",
       "  <tbody>\n",
       "    <tr>\n",
       "      <th>0</th>\n",
       "      <td>宜蘭縣</td>\n",
       "      <td>山地原住民</td>\n",
       "      <td>宜蘭市</td>\n",
       "      <td>民族里</td>\n",
       "      <td>1</td>\n",
       "      <td>1</td>\n",
       "      <td>民主進步黨</td>\n",
       "      <td>伍麗華Saidhai．Tahovecahe</td>\n",
       "      <td>0</td>\n",
       "    </tr>\n",
       "    <tr>\n",
       "      <th>1</th>\n",
       "      <td>宜蘭縣</td>\n",
       "      <td>山地原住民</td>\n",
       "      <td>宜蘭市</td>\n",
       "      <td>民族里</td>\n",
       "      <td>2</td>\n",
       "      <td>1</td>\n",
       "      <td>民主進步黨</td>\n",
       "      <td>伍麗華Saidhai．Tahovecahe</td>\n",
       "      <td>0</td>\n",
       "    </tr>\n",
       "    <tr>\n",
       "      <th>2</th>\n",
       "      <td>宜蘭縣</td>\n",
       "      <td>山地原住民</td>\n",
       "      <td>宜蘭市</td>\n",
       "      <td>建軍里</td>\n",
       "      <td>3</td>\n",
       "      <td>1</td>\n",
       "      <td>民主進步黨</td>\n",
       "      <td>伍麗華Saidhai．Tahovecahe</td>\n",
       "      <td>0</td>\n",
       "    </tr>\n",
       "    <tr>\n",
       "      <th>3</th>\n",
       "      <td>宜蘭縣</td>\n",
       "      <td>山地原住民</td>\n",
       "      <td>宜蘭市</td>\n",
       "      <td>建軍里</td>\n",
       "      <td>4</td>\n",
       "      <td>1</td>\n",
       "      <td>民主進步黨</td>\n",
       "      <td>伍麗華Saidhai．Tahovecahe</td>\n",
       "      <td>0</td>\n",
       "    </tr>\n",
       "    <tr>\n",
       "      <th>4</th>\n",
       "      <td>宜蘭縣</td>\n",
       "      <td>山地原住民</td>\n",
       "      <td>宜蘭市</td>\n",
       "      <td>泰山里</td>\n",
       "      <td>5</td>\n",
       "      <td>1</td>\n",
       "      <td>民主進步黨</td>\n",
       "      <td>伍麗華Saidhai．Tahovecahe</td>\n",
       "      <td>0</td>\n",
       "    </tr>\n",
       "  </tbody>\n",
       "</table>\n",
       "</div>"
      ],
      "text/plain": [
       "  county electoral_district town village  office number  party  \\\n",
       "0    宜蘭縣              山地原住民  宜蘭市     民族里       1      1  民主進步黨   \n",
       "1    宜蘭縣              山地原住民  宜蘭市     民族里       2      1  民主進步黨   \n",
       "2    宜蘭縣              山地原住民  宜蘭市     建軍里       3      1  民主進步黨   \n",
       "3    宜蘭縣              山地原住民  宜蘭市     建軍里       4      1  民主進步黨   \n",
       "4    宜蘭縣              山地原住民  宜蘭市     泰山里       5      1  民主進步黨   \n",
       "\n",
       "               candidate  votes  \n",
       "0  伍麗華Saidhai．Tahovecahe      0  \n",
       "1  伍麗華Saidhai．Tahovecahe      0  \n",
       "2  伍麗華Saidhai．Tahovecahe      0  \n",
       "3  伍麗華Saidhai．Tahovecahe      0  \n",
       "4  伍麗華Saidhai．Tahovecahe      0  "
      ]
     },
     "execution_count": 33,
     "metadata": {},
     "output_type": "execute_result"
    }
   ],
   "source": [
    "indigenous.head()"
   ]
  },
  {
   "cell_type": "markdown",
   "metadata": {
    "slideshow": {
     "slide_type": "subslide"
    }
   },
   "source": [
    "## Regional and indigenous are voted on candidates, so probably we can combine them vertically as well"
   ]
  },
  {
   "cell_type": "code",
   "execution_count": 34,
   "metadata": {},
   "outputs": [],
   "source": [
    "legislative_regional = pd.concat([regional, indigenous], axis=0)\n",
    "legislative_regional = legislative_regional.reset_index(drop=True)"
   ]
  },
  {
   "cell_type": "markdown",
   "metadata": {
    "slideshow": {
     "slide_type": "subslide"
    }
   },
   "source": [
    "## Applying `tidy_dataframe` on at large spreadsheets"
   ]
  },
  {
   "cell_type": "code",
   "execution_count": 35,
   "metadata": {},
   "outputs": [
    {
     "name": "stdout",
     "output_type": "stream",
     "text": [
      "Tidying 不分區立委-A05-6-得票數一覽表(宜蘭縣).xls\n",
      "Tidying 不分區立委-A05-6-得票數一覽表(彰化縣).xls\n",
      "Tidying 不分區立委-A05-6-得票數一覽表(金門縣).xls\n",
      "Tidying 不分區立委-A05-6-得票數一覽表(桃園市).xls\n",
      "Tidying 不分區立委-A05-6-得票數一覽表(苗栗縣).xls\n",
      "Tidying 不分區立委-A05-6-得票數一覽表(臺南市).xls\n",
      "Tidying 不分區立委-A05-6-得票數一覽表(雲林縣).xls\n",
      "Tidying 不分區立委-A05-6-得票數一覽表(南投縣).xls\n",
      "Tidying 不分區立委-A05-6-得票數一覽表(高雄市).xls\n",
      "Tidying 不分區立委-A05-6-得票數一覽表(臺北市).xls\n",
      "Tidying 不分區立委-A05-6-得票數一覽表(新北市).xls\n",
      "Tidying 不分區立委-A05-6-得票數一覽表(花蓮縣).xls\n",
      "Tidying 不分區立委-A05-6-得票數一覽表(新竹市).xls\n",
      "Tidying 不分區立委-A05-6-得票數一覽表(新竹縣).xls\n",
      "Tidying 不分區立委-A05-6-得票數一覽表(基隆市).xls\n",
      "Tidying 不分區立委-A05-6-得票數一覽表(連江縣).xls\n",
      "Tidying 不分區立委-A05-6-得票數一覽表(嘉義縣).xls\n",
      "Tidying 不分區立委-A05-6-得票數一覽表(嘉義市).xls\n",
      "Tidying 不分區立委-A05-6-得票數一覽表(屏東縣).xls\n",
      "Tidying 不分區立委-A05-6-得票數一覽表(澎湖縣).xls\n",
      "Tidying 不分區立委-A05-6-得票數一覽表(臺東縣).xls\n",
      "Tidying 不分區立委-A05-6-得票數一覽表(臺中市).xls\n"
     ]
    }
   ],
   "source": [
    "legislative_at_large = pd.DataFrame()\n",
    "for county in counties:\n",
    "    file_name = \"不分區立委-A05-6-得票數一覽表({}).xls\".format(county)\n",
    "    file_url = quote_plus(file_name)\n",
    "    spreadsheet_url = \"https://taiwan-election-data.s3-ap-northeast-1.amazonaws.com/legislative_2020/{}\".format(file_url)\n",
    "    # skip those combined cells\n",
    "    df = pd.read_excel(spreadsheet_url, skiprows=[0, 1, 3, 4], thousands=',')\n",
    "    tidy_df = tidy_dataframe(df)\n",
    "    # appending dataframe of each city/county\n",
    "    tidy_df['county'] = county\n",
    "    legislative_at_large = legislative_at_large.append(tidy_df)\n",
    "    print(\"Tidying {}\".format(file_name))\n",
    "legislative_at_large = legislative_at_large.reset_index(drop=True) # reset index for the appended dataframe"
   ]
  },
  {
   "cell_type": "code",
   "execution_count": 36,
   "metadata": {
    "slideshow": {
     "slide_type": "subslide"
    }
   },
   "outputs": [
    {
     "data": {
      "text/html": [
       "<div>\n",
       "<style scoped>\n",
       "    .dataframe tbody tr th:only-of-type {\n",
       "        vertical-align: middle;\n",
       "    }\n",
       "\n",
       "    .dataframe tbody tr th {\n",
       "        vertical-align: top;\n",
       "    }\n",
       "\n",
       "    .dataframe thead th {\n",
       "        text-align: right;\n",
       "    }\n",
       "</style>\n",
       "<table border=\"1\" class=\"dataframe\">\n",
       "  <thead>\n",
       "    <tr style=\"text-align: right;\">\n",
       "      <th></th>\n",
       "      <th>town</th>\n",
       "      <th>village</th>\n",
       "      <th>office</th>\n",
       "      <th>candidate_info</th>\n",
       "      <th>votes</th>\n",
       "      <th>county</th>\n",
       "    </tr>\n",
       "  </thead>\n",
       "  <tbody>\n",
       "    <tr>\n",
       "      <th>0</th>\n",
       "      <td>宜蘭市</td>\n",
       "      <td>民族里</td>\n",
       "      <td>1.0</td>\n",
       "      <td>(1)\\n\\n合一行動聯盟</td>\n",
       "      <td>2</td>\n",
       "      <td>宜蘭縣</td>\n",
       "    </tr>\n",
       "    <tr>\n",
       "      <th>1</th>\n",
       "      <td>宜蘭市</td>\n",
       "      <td>民族里</td>\n",
       "      <td>2.0</td>\n",
       "      <td>(1)\\n\\n合一行動聯盟</td>\n",
       "      <td>1</td>\n",
       "      <td>宜蘭縣</td>\n",
       "    </tr>\n",
       "    <tr>\n",
       "      <th>2</th>\n",
       "      <td>宜蘭市</td>\n",
       "      <td>建軍里</td>\n",
       "      <td>3.0</td>\n",
       "      <td>(1)\\n\\n合一行動聯盟</td>\n",
       "      <td>2</td>\n",
       "      <td>宜蘭縣</td>\n",
       "    </tr>\n",
       "    <tr>\n",
       "      <th>3</th>\n",
       "      <td>宜蘭市</td>\n",
       "      <td>建軍里</td>\n",
       "      <td>4.0</td>\n",
       "      <td>(1)\\n\\n合一行動聯盟</td>\n",
       "      <td>0</td>\n",
       "      <td>宜蘭縣</td>\n",
       "    </tr>\n",
       "    <tr>\n",
       "      <th>4</th>\n",
       "      <td>宜蘭市</td>\n",
       "      <td>泰山里</td>\n",
       "      <td>5.0</td>\n",
       "      <td>(1)\\n\\n合一行動聯盟</td>\n",
       "      <td>3</td>\n",
       "      <td>宜蘭縣</td>\n",
       "    </tr>\n",
       "  </tbody>\n",
       "</table>\n",
       "</div>"
      ],
      "text/plain": [
       "  town village  office candidate_info  votes county\n",
       "0  宜蘭市     民族里     1.0  (1)\\n\\n合一行動聯盟      2    宜蘭縣\n",
       "1  宜蘭市     民族里     2.0  (1)\\n\\n合一行動聯盟      1    宜蘭縣\n",
       "2  宜蘭市     建軍里     3.0  (1)\\n\\n合一行動聯盟      2    宜蘭縣\n",
       "3  宜蘭市     建軍里     4.0  (1)\\n\\n合一行動聯盟      0    宜蘭縣\n",
       "4  宜蘭市     泰山里     5.0  (1)\\n\\n合一行動聯盟      3    宜蘭縣"
      ]
     },
     "execution_count": 36,
     "metadata": {},
     "output_type": "execute_result"
    }
   ],
   "source": [
    "legislative_at_large.head()"
   ]
  },
  {
   "cell_type": "markdown",
   "metadata": {
    "slideshow": {
     "slide_type": "subslide"
    }
   },
   "source": [
    "## Applying `adjust_legislative` on `legislative_at_large` to make minor adjustments after appending"
   ]
  },
  {
   "cell_type": "code",
   "execution_count": 37,
   "metadata": {},
   "outputs": [
    {
     "data": {
      "text/html": [
       "<div>\n",
       "<style scoped>\n",
       "    .dataframe tbody tr th:only-of-type {\n",
       "        vertical-align: middle;\n",
       "    }\n",
       "\n",
       "    .dataframe tbody tr th {\n",
       "        vertical-align: top;\n",
       "    }\n",
       "\n",
       "    .dataframe thead th {\n",
       "        text-align: right;\n",
       "    }\n",
       "</style>\n",
       "<table border=\"1\" class=\"dataframe\">\n",
       "  <thead>\n",
       "    <tr style=\"text-align: right;\">\n",
       "      <th></th>\n",
       "      <th>county</th>\n",
       "      <th>town</th>\n",
       "      <th>village</th>\n",
       "      <th>office</th>\n",
       "      <th>number</th>\n",
       "      <th>party</th>\n",
       "      <th>votes</th>\n",
       "    </tr>\n",
       "  </thead>\n",
       "  <tbody>\n",
       "    <tr>\n",
       "      <th>0</th>\n",
       "      <td>宜蘭縣</td>\n",
       "      <td>宜蘭市</td>\n",
       "      <td>民族里</td>\n",
       "      <td>1</td>\n",
       "      <td>1</td>\n",
       "      <td>合一行動聯盟</td>\n",
       "      <td>2</td>\n",
       "    </tr>\n",
       "    <tr>\n",
       "      <th>1</th>\n",
       "      <td>宜蘭縣</td>\n",
       "      <td>宜蘭市</td>\n",
       "      <td>民族里</td>\n",
       "      <td>2</td>\n",
       "      <td>1</td>\n",
       "      <td>合一行動聯盟</td>\n",
       "      <td>1</td>\n",
       "    </tr>\n",
       "    <tr>\n",
       "      <th>2</th>\n",
       "      <td>宜蘭縣</td>\n",
       "      <td>宜蘭市</td>\n",
       "      <td>建軍里</td>\n",
       "      <td>3</td>\n",
       "      <td>1</td>\n",
       "      <td>合一行動聯盟</td>\n",
       "      <td>2</td>\n",
       "    </tr>\n",
       "    <tr>\n",
       "      <th>3</th>\n",
       "      <td>宜蘭縣</td>\n",
       "      <td>宜蘭市</td>\n",
       "      <td>建軍里</td>\n",
       "      <td>4</td>\n",
       "      <td>1</td>\n",
       "      <td>合一行動聯盟</td>\n",
       "      <td>0</td>\n",
       "    </tr>\n",
       "    <tr>\n",
       "      <th>4</th>\n",
       "      <td>宜蘭縣</td>\n",
       "      <td>宜蘭市</td>\n",
       "      <td>泰山里</td>\n",
       "      <td>5</td>\n",
       "      <td>1</td>\n",
       "      <td>合一行動聯盟</td>\n",
       "      <td>3</td>\n",
       "    </tr>\n",
       "  </tbody>\n",
       "</table>\n",
       "</div>"
      ],
      "text/plain": [
       "  county town village  office number   party  votes\n",
       "0    宜蘭縣  宜蘭市     民族里       1      1  合一行動聯盟      2\n",
       "1    宜蘭縣  宜蘭市     民族里       2      1  合一行動聯盟      1\n",
       "2    宜蘭縣  宜蘭市     建軍里       3      1  合一行動聯盟      2\n",
       "3    宜蘭縣  宜蘭市     建軍里       4      1  合一行動聯盟      0\n",
       "4    宜蘭縣  宜蘭市     泰山里       5      1  合一行動聯盟      3"
      ]
     },
     "execution_count": 37,
     "metadata": {},
     "output_type": "execute_result"
    }
   ],
   "source": [
    "legislative_at_large = adjust_legislative(legislative_at_large)\n",
    "legislative_at_large = legislative_at_large[['county', 'town', 'village', 'office', 'number', 'party', 'votes']]\n",
    "legislative_at_large.head()"
   ]
  },
  {
   "cell_type": "markdown",
   "metadata": {
    "slideshow": {
     "slide_type": "subslide"
    }
   },
   "source": [
    "## We can also define a class `TaiwanElection2020` for above wranglings\n",
    "\n",
    "<https://gist.github.com/yaojenkuo/68164c0ae503c87923c2727ff018646b>"
   ]
  },
  {
   "cell_type": "code",
   "execution_count": 38,
   "metadata": {
    "slideshow": {
     "slide_type": "subslide"
    }
   },
   "outputs": [
    {
     "name": "stdout",
     "output_type": "stream",
     "text": [
      "Tidying 總統-A05-4-候選人得票數一覽表-各投開票所(宜蘭縣).xls\n",
      "Tidying 總統-A05-4-候選人得票數一覽表-各投開票所(彰化縣).xls\n",
      "Tidying 總統-A05-4-候選人得票數一覽表-各投開票所(金門縣).xls\n",
      "Tidying 總統-A05-4-候選人得票數一覽表-各投開票所(桃園市).xls\n",
      "Tidying 總統-A05-4-候選人得票數一覽表-各投開票所(苗栗縣).xls\n",
      "Tidying 總統-A05-4-候選人得票數一覽表-各投開票所(臺南市).xls\n",
      "Tidying 總統-A05-4-候選人得票數一覽表-各投開票所(雲林縣).xls\n",
      "Tidying 總統-A05-4-候選人得票數一覽表-各投開票所(南投縣).xls\n",
      "Tidying 總統-A05-4-候選人得票數一覽表-各投開票所(高雄市).xls\n",
      "Tidying 總統-A05-4-候選人得票數一覽表-各投開票所(臺北市).xls\n",
      "Tidying 總統-A05-4-候選人得票數一覽表-各投開票所(新北市).xls\n",
      "Tidying 總統-A05-4-候選人得票數一覽表-各投開票所(花蓮縣).xls\n",
      "Tidying 總統-A05-4-候選人得票數一覽表-各投開票所(新竹市).xls\n",
      "Tidying 總統-A05-4-候選人得票數一覽表-各投開票所(新竹縣).xls\n",
      "Tidying 總統-A05-4-候選人得票數一覽表-各投開票所(基隆市).xls\n",
      "Tidying 總統-A05-4-候選人得票數一覽表-各投開票所(連江縣).xls\n",
      "Tidying 總統-A05-4-候選人得票數一覽表-各投開票所(嘉義縣).xls\n",
      "Tidying 總統-A05-4-候選人得票數一覽表-各投開票所(嘉義市).xls\n",
      "Tidying 總統-A05-4-候選人得票數一覽表-各投開票所(屏東縣).xls\n",
      "Tidying 總統-A05-4-候選人得票數一覽表-各投開票所(澎湖縣).xls\n",
      "Tidying 總統-A05-4-候選人得票數一覽表-各投開票所(臺東縣).xls\n",
      "Tidying 總統-A05-4-候選人得票數一覽表-各投開票所(臺中市).xls\n",
      "Tidying 宜蘭縣選舉區 of 區域立委-A05-2-得票數一覽表(宜蘭縣).xls\n",
      "Tidying 彰化縣第1選舉區 of 區域立委-A05-2-得票數一覽表(彰化縣).xls\n",
      "Tidying 彰化縣第2選舉區 of 區域立委-A05-2-得票數一覽表(彰化縣).xls\n",
      "Tidying 彰化縣第3選舉區 of 區域立委-A05-2-得票數一覽表(彰化縣).xls\n",
      "Tidying 彰化縣第4選舉區 of 區域立委-A05-2-得票數一覽表(彰化縣).xls\n",
      "Tidying 金門縣選舉區 of 區域立委-A05-2-得票數一覽表(金門縣).xls\n",
      "Tidying 桃園市第1選舉區 of 區域立委-A05-2-得票數一覽表(桃園市).xls\n",
      "Tidying 桃園市第2選舉區 of 區域立委-A05-2-得票數一覽表(桃園市).xls\n",
      "Tidying 桃園市第3選舉區 of 區域立委-A05-2-得票數一覽表(桃園市).xls\n",
      "Tidying 桃園市第4選舉區 of 區域立委-A05-2-得票數一覽表(桃園市).xls\n",
      "Tidying 桃園市第5選舉區 of 區域立委-A05-2-得票數一覽表(桃園市).xls\n",
      "Tidying 桃園市第6選舉區 of 區域立委-A05-2-得票數一覽表(桃園市).xls\n",
      "Tidying 苗栗縣第1選舉區 of 區域立委-A05-2-得票數一覽表(苗栗縣).xls\n",
      "Tidying 苗栗縣第2選舉區 of 區域立委-A05-2-得票數一覽表(苗栗縣).xls\n",
      "Tidying 臺南市第1選舉區 of 區域立委-A05-2-得票數一覽表(臺南市).xls\n",
      "Tidying 臺南市第2選舉區 of 區域立委-A05-2-得票數一覽表(臺南市).xls\n",
      "Tidying 臺南市第3選舉區 of 區域立委-A05-2-得票數一覽表(臺南市).xls\n",
      "Tidying 臺南市第4選舉區 of 區域立委-A05-2-得票數一覽表(臺南市).xls\n",
      "Tidying 臺南市第5選舉區 of 區域立委-A05-2-得票數一覽表(臺南市).xls\n",
      "Tidying 臺南市第6選舉區 of 區域立委-A05-2-得票數一覽表(臺南市).xls\n",
      "Tidying 雲林縣第1選舉區 of 區域立委-A05-2-得票數一覽表(雲林縣).xls\n",
      "Tidying 雲林縣第2選舉區 of 區域立委-A05-2-得票數一覽表(雲林縣).xls\n",
      "Tidying 南投縣第1選舉區 of 區域立委-A05-2-得票數一覽表(南投縣).xls\n",
      "Tidying 南投縣第2選舉區 of 區域立委-A05-2-得票數一覽表(南投縣).xls\n",
      "Tidying 高雄市第1選舉區 of 區域立委-A05-2-得票數一覽表(高雄市).xls\n",
      "Tidying 高雄市第2選舉區 of 區域立委-A05-2-得票數一覽表(高雄市).xls\n",
      "Tidying 高雄市第3選舉區 of 區域立委-A05-2-得票數一覽表(高雄市).xls\n",
      "Tidying 高雄市第4選舉區 of 區域立委-A05-2-得票數一覽表(高雄市).xls\n",
      "Tidying 高雄市第5選舉區 of 區域立委-A05-2-得票數一覽表(高雄市).xls\n",
      "Tidying 高雄市第6選舉區 of 區域立委-A05-2-得票數一覽表(高雄市).xls\n",
      "Tidying 高雄市第7選舉區 of 區域立委-A05-2-得票數一覽表(高雄市).xls\n",
      "Tidying 高雄市第8選舉區 of 區域立委-A05-2-得票數一覽表(高雄市).xls\n",
      "Tidying 臺北市第1選舉區 of 區域立委-A05-2-得票數一覽表(臺北市).xls\n",
      "Tidying 臺北市第2選舉區 of 區域立委-A05-2-得票數一覽表(臺北市).xls\n",
      "Tidying 臺北市第3選舉區 of 區域立委-A05-2-得票數一覽表(臺北市).xls\n",
      "Tidying 臺北市第4選舉區 of 區域立委-A05-2-得票數一覽表(臺北市).xls\n",
      "Tidying 臺北市第5選舉區 of 區域立委-A05-2-得票數一覽表(臺北市).xls\n",
      "Tidying 臺北市第6選舉區 of 區域立委-A05-2-得票數一覽表(臺北市).xls\n",
      "Tidying 臺北市第7選舉區 of 區域立委-A05-2-得票數一覽表(臺北市).xls\n",
      "Tidying 臺北市第8選舉區 of 區域立委-A05-2-得票數一覽表(臺北市).xls\n",
      "Tidying 新北市第1選舉區 of 區域立委-A05-2-得票數一覽表(新北市).xls\n",
      "Tidying 新北市第2選舉區 of 區域立委-A05-2-得票數一覽表(新北市).xls\n",
      "Tidying 新北市第3選舉區 of 區域立委-A05-2-得票數一覽表(新北市).xls\n",
      "Tidying 新北市第4選舉區 of 區域立委-A05-2-得票數一覽表(新北市).xls\n",
      "Tidying 新北市第5選舉區 of 區域立委-A05-2-得票數一覽表(新北市).xls\n",
      "Tidying 新北市第6選舉區 of 區域立委-A05-2-得票數一覽表(新北市).xls\n",
      "Tidying 新北市第7選舉區 of 區域立委-A05-2-得票數一覽表(新北市).xls\n",
      "Tidying 新北市第8選舉區 of 區域立委-A05-2-得票數一覽表(新北市).xls\n",
      "Tidying 新北市第9選舉區 of 區域立委-A05-2-得票數一覽表(新北市).xls\n",
      "Tidying 新北市第10選舉區 of 區域立委-A05-2-得票數一覽表(新北市).xls\n",
      "Tidying 新北市第11選舉區 of 區域立委-A05-2-得票數一覽表(新北市).xls\n",
      "Tidying 新北市第12選舉區 of 區域立委-A05-2-得票數一覽表(新北市).xls\n",
      "Tidying 花蓮縣選舉區 of 區域立委-A05-2-得票數一覽表(花蓮縣).xls\n",
      "Tidying 新竹市選舉區 of 區域立委-A05-2-得票數一覽表(新竹市).xls\n",
      "Tidying 新竹縣第1選舉區 of 區域立委-A05-2-得票數一覽表(新竹縣).xls\n",
      "Tidying 新竹縣第2選舉區 of 區域立委-A05-2-得票數一覽表(新竹縣).xls\n",
      "Tidying 基隆市選舉區 of 區域立委-A05-2-得票數一覽表(基隆市).xls\n",
      "Tidying 連江縣選舉區 of 區域立委-A05-2-得票數一覽表(連江縣).xls\n",
      "Tidying 嘉義縣第1選舉區 of 區域立委-A05-2-得票數一覽表(嘉義縣).xls\n",
      "Tidying 嘉義縣第2選舉區 of 區域立委-A05-2-得票數一覽表(嘉義縣).xls\n",
      "Tidying 嘉義市選舉區 of 區域立委-A05-2-得票數一覽表(嘉義市).xls\n",
      "Tidying 屏東縣第1選舉區 of 區域立委-A05-2-得票數一覽表(屏東縣).xls\n",
      "Tidying 屏東縣第2選舉區 of 區域立委-A05-2-得票數一覽表(屏東縣).xls\n",
      "Tidying 澎湖縣選舉區 of 區域立委-A05-2-得票數一覽表(澎湖縣).xls\n",
      "Tidying 臺東縣選舉區 of 區域立委-A05-2-得票數一覽表(臺東縣).xls\n",
      "Tidying 臺中市第1選舉區 of 區域立委-A05-2-得票數一覽表(臺中市).xls\n",
      "Tidying 臺中市第2選舉區 of 區域立委-A05-2-得票數一覽表(臺中市).xls\n",
      "Tidying 臺中市第3選舉區 of 區域立委-A05-2-得票數一覽表(臺中市).xls\n",
      "Tidying 臺中市第4選舉區 of 區域立委-A05-2-得票數一覽表(臺中市).xls\n",
      "Tidying 臺中市第5選舉區 of 區域立委-A05-2-得票數一覽表(臺中市).xls\n",
      "Tidying 臺中市第6選舉區 of 區域立委-A05-2-得票數一覽表(臺中市).xls\n",
      "Tidying 臺中市第7選舉區 of 區域立委-A05-2-得票數一覽表(臺中市).xls\n",
      "Tidying 臺中市第8選舉區 of 區域立委-A05-2-得票數一覽表(臺中市).xls\n",
      "Tidying 山地立委-A05-4-得票數一覽表(宜蘭縣).xls\n",
      "Tidying 平地立委-A05-4-得票數一覽表(宜蘭縣).xls\n",
      "Tidying 山地立委-A05-4-得票數一覽表(彰化縣).xls\n",
      "Tidying 平地立委-A05-4-得票數一覽表(彰化縣).xls\n",
      "Tidying 山地立委-A05-4-得票數一覽表(金門縣).xls\n",
      "Tidying 平地立委-A05-4-得票數一覽表(金門縣).xls\n",
      "Tidying 山地立委-A05-4-得票數一覽表(桃園市).xls\n",
      "Tidying 平地立委-A05-4-得票數一覽表(桃園市).xls\n",
      "Tidying 山地立委-A05-4-得票數一覽表(苗栗縣).xls\n",
      "Tidying 平地立委-A05-4-得票數一覽表(苗栗縣).xls\n",
      "Tidying 山地立委-A05-4-得票數一覽表(臺南市).xls\n",
      "Tidying 平地立委-A05-4-得票數一覽表(臺南市).xls\n",
      "Tidying 山地立委-A05-4-得票數一覽表(雲林縣).xls\n",
      "Tidying 平地立委-A05-4-得票數一覽表(雲林縣).xls\n",
      "Tidying 山地立委-A05-4-得票數一覽表(南投縣).xls\n",
      "Tidying 平地立委-A05-4-得票數一覽表(南投縣).xls\n",
      "Tidying 山地立委-A05-4-得票數一覽表(高雄市).xls\n",
      "Tidying 平地立委-A05-4-得票數一覽表(高雄市).xls\n",
      "Tidying 山地立委-A05-4-得票數一覽表(臺北市).xls\n",
      "Tidying 平地立委-A05-4-得票數一覽表(臺北市).xls\n",
      "Tidying 山地立委-A05-4-得票數一覽表(新北市).xls\n",
      "Tidying 平地立委-A05-4-得票數一覽表(新北市).xls\n",
      "Tidying 山地立委-A05-4-得票數一覽表(花蓮縣).xls\n",
      "Tidying 平地立委-A05-4-得票數一覽表(花蓮縣).xls\n",
      "Tidying 山地立委-A05-4-得票數一覽表(新竹市).xls\n",
      "Tidying 平地立委-A05-4-得票數一覽表(新竹市).xls\n",
      "Tidying 山地立委-A05-4-得票數一覽表(新竹縣).xls\n",
      "Tidying 平地立委-A05-4-得票數一覽表(新竹縣).xls\n",
      "Tidying 山地立委-A05-4-得票數一覽表(基隆市).xls\n",
      "Tidying 平地立委-A05-4-得票數一覽表(基隆市).xls\n",
      "Tidying 山地立委-A05-4-得票數一覽表(連江縣).xls\n",
      "Tidying 平地立委-A05-4-得票數一覽表(連江縣).xls\n",
      "Tidying 山地立委-A05-4-得票數一覽表(嘉義縣).xls\n",
      "Tidying 平地立委-A05-4-得票數一覽表(嘉義縣).xls\n",
      "Tidying 山地立委-A05-4-得票數一覽表(嘉義市).xls\n",
      "Tidying 平地立委-A05-4-得票數一覽表(嘉義市).xls\n",
      "Tidying 山地立委-A05-4-得票數一覽表(屏東縣).xls\n",
      "Tidying 平地立委-A05-4-得票數一覽表(屏東縣).xls\n",
      "Tidying 山地立委-A05-4-得票數一覽表(澎湖縣).xls\n",
      "Tidying 平地立委-A05-4-得票數一覽表(澎湖縣).xls\n",
      "Tidying 山地立委-A05-4-得票數一覽表(臺東縣).xls\n",
      "Tidying 平地立委-A05-4-得票數一覽表(臺東縣).xls\n",
      "Tidying 山地立委-A05-4-得票數一覽表(臺中市).xls\n",
      "Tidying 平地立委-A05-4-得票數一覽表(臺中市).xls\n"
     ]
    },
    {
     "ename": "NameError",
     "evalue": "name 'counties' is not defined",
     "output_type": "error",
     "traceback": [
      "\u001b[0;31m---------------------------------------------------------------------------\u001b[0m",
      "\u001b[0;31mNameError\u001b[0m                                 Traceback (most recent call last)",
      "\u001b[0;32m<ipython-input-38-cda1c3ddd215>\u001b[0m in \u001b[0;36m<module>\u001b[0;34m\u001b[0m\n\u001b[1;32m      4\u001b[0m \u001b[0mpresidential\u001b[0m \u001b[0;34m=\u001b[0m \u001b[0mtw_election\u001b[0m\u001b[0;34m.\u001b[0m\u001b[0mgenerate_presidential\u001b[0m\u001b[0;34m(\u001b[0m\u001b[0;34m)\u001b[0m\u001b[0;34m\u001b[0m\u001b[0;34m\u001b[0m\u001b[0m\n\u001b[1;32m      5\u001b[0m \u001b[0mlegislative_regional\u001b[0m \u001b[0;34m=\u001b[0m \u001b[0mtw_election\u001b[0m\u001b[0;34m.\u001b[0m\u001b[0mgenerate_legislative_regional\u001b[0m\u001b[0;34m(\u001b[0m\u001b[0;34m)\u001b[0m\u001b[0;34m\u001b[0m\u001b[0;34m\u001b[0m\u001b[0m\n\u001b[0;32m----> 6\u001b[0;31m \u001b[0mlegislative_at_large\u001b[0m \u001b[0;34m=\u001b[0m \u001b[0mtw_election\u001b[0m\u001b[0;34m.\u001b[0m\u001b[0mgenerate_legislative_at_large\u001b[0m\u001b[0;34m(\u001b[0m\u001b[0;34m)\u001b[0m\u001b[0;34m\u001b[0m\u001b[0;34m\u001b[0m\u001b[0m\n\u001b[0m",
      "\u001b[0;32m~/classroom-dbs/taiwan_election_2020.py\u001b[0m in \u001b[0;36mgenerate_legislative_at_large\u001b[0;34m(self)\u001b[0m\n\u001b[1;32m    121\u001b[0m     \u001b[0;32mdef\u001b[0m \u001b[0mgenerate_legislative_at_large\u001b[0m\u001b[0;34m(\u001b[0m\u001b[0mself\u001b[0m\u001b[0;34m)\u001b[0m\u001b[0;34m:\u001b[0m\u001b[0;34m\u001b[0m\u001b[0;34m\u001b[0m\u001b[0m\n\u001b[1;32m    122\u001b[0m         \u001b[0mlegislative_at_large\u001b[0m \u001b[0;34m=\u001b[0m \u001b[0mpd\u001b[0m\u001b[0;34m.\u001b[0m\u001b[0mDataFrame\u001b[0m\u001b[0;34m(\u001b[0m\u001b[0;34m)\u001b[0m\u001b[0;34m\u001b[0m\u001b[0;34m\u001b[0m\u001b[0m\n\u001b[0;32m--> 123\u001b[0;31m         \u001b[0;32mfor\u001b[0m \u001b[0mcounty\u001b[0m \u001b[0;32min\u001b[0m \u001b[0mcounties\u001b[0m\u001b[0;34m:\u001b[0m\u001b[0;34m\u001b[0m\u001b[0;34m\u001b[0m\u001b[0m\n\u001b[0m\u001b[1;32m    124\u001b[0m             \u001b[0mfile_name\u001b[0m \u001b[0;34m=\u001b[0m \u001b[0;34m\"不分區立委-A05-6-得票數一覽表({}).xls\"\u001b[0m\u001b[0;34m.\u001b[0m\u001b[0mformat\u001b[0m\u001b[0;34m(\u001b[0m\u001b[0mcounty\u001b[0m\u001b[0;34m)\u001b[0m\u001b[0;34m\u001b[0m\u001b[0;34m\u001b[0m\u001b[0m\n\u001b[1;32m    125\u001b[0m             \u001b[0mfile_url\u001b[0m \u001b[0;34m=\u001b[0m \u001b[0mquote_plus\u001b[0m\u001b[0;34m(\u001b[0m\u001b[0mfile_name\u001b[0m\u001b[0;34m)\u001b[0m\u001b[0;34m\u001b[0m\u001b[0;34m\u001b[0m\u001b[0m\n",
      "\u001b[0;31mNameError\u001b[0m: name 'counties' is not defined"
     ]
    }
   ],
   "source": [
    "from taiwan_election_2020 import TaiwanElection2020\n",
    "\n",
    "tw_election = TaiwanElection2020()\n",
    "presidential = tw_election.generate_presidential()\n",
    "legislative_regional = tw_election.generate_legislative_regional()\n",
    "legislative_at_large = tw_election.generate_legislative_at_large()"
   ]
  },
  {
   "cell_type": "markdown",
   "metadata": {
    "slideshow": {
     "slide_type": "subslide"
    }
   },
   "source": [
    "## Done wrangling the legislative data!\n",
    "\n",
    "![](https://media.giphy.com/media/13tw3BAKGrRMRy/giphy.gif)\n",
    "\n",
    "Source: <https://giphy.com/>"
   ]
  },
  {
   "cell_type": "markdown",
   "metadata": {
    "slideshow": {
     "slide_type": "subslide"
    }
   },
   "source": [
    "## Export tidy dataframes as `csv` via `to_csv` method\n",
    "\n",
    "We usually set `index=False` as we do not use `Index` in flat files."
   ]
  },
  {
   "cell_type": "code",
   "execution_count": 39,
   "metadata": {},
   "outputs": [],
   "source": [
    "presidential.to_csv('presidential.csv', index=False)\n",
    "legislative_regional.to_csv('legislative_regional.csv', index=False)\n",
    "legislative_at_large.to_csv('legislative_at_large.csv', index=False)"
   ]
  },
  {
   "cell_type": "markdown",
   "metadata": {
    "slideshow": {
     "slide_type": "subslide"
    }
   },
   "source": [
    "## Export tidy dataframes as `sqlite` tables via `to_sql` method and `sqlite3` connection\n",
    "\n",
    "We usually set `index=False` as we do not include `Index` in tables as a column."
   ]
  },
  {
   "cell_type": "code",
   "execution_count": 40,
   "metadata": {},
   "outputs": [],
   "source": [
    "conn = sqlite3.connect('tw-election-2020.db')\n",
    "presidential.to_sql('presidential', con=conn, index=False, if_exists='replace')\n",
    "legislative_regional.to_sql('legislative_regional', con=conn, index=False, if_exists='replace')\n",
    "legislative_at_large.to_sql('legislative_at_large', con=conn, index=False, if_exists='replace')"
   ]
  }
 ],
 "metadata": {
  "celltoolbar": "Slideshow",
  "kernelspec": {
   "display_name": "Python Data Analysis",
   "language": "python",
   "name": "pyda"
  },
  "language_info": {
   "codemirror_mode": {
    "name": "ipython",
    "version": 3
   },
   "file_extension": ".py",
   "mimetype": "text/x-python",
   "name": "python",
   "nbconvert_exporter": "python",
   "pygments_lexer": "ipython3",
   "version": "3.6.8"
  }
 },
 "nbformat": 4,
 "nbformat_minor": 4
}
